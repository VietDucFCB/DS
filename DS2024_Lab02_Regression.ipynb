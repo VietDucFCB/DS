{
 "cells": [
  {
   "cell_type": "markdown",
   "id": "bab3dfcb-c988-4b6f-875a-63bb80417dbd",
   "metadata": {},
   "source": [
    "# Introduction to Data Science - 22KDL\n",
    "## Lab02 - Regression\n",
    "### 22280012 - Nguyen Xuan Viet Duc"
   ]
  },
  {
   "cell_type": "markdown",
   "id": "697f149f-b0e4-4dd7-ba1f-66cc105d28aa",
   "metadata": {},
   "source": [
    "### Import the dataset:\n",
    "The dataset has been downloaded from [https://archive.ics.uci.edu/dataset/477/real+estate+valuation+data+set](URL) and then converted from .xlsx to .csv format."
   ]
  },
  {
   "cell_type": "code",
   "execution_count": 262,
   "id": "0ce0f30e-1b1b-48bb-b274-c26f8fdf38ea",
   "metadata": {},
   "outputs": [
    {
     "data": {
      "text/html": [
       "<div>\n",
       "<style scoped>\n",
       "    .dataframe tbody tr th:only-of-type {\n",
       "        vertical-align: middle;\n",
       "    }\n",
       "\n",
       "    .dataframe tbody tr th {\n",
       "        vertical-align: top;\n",
       "    }\n",
       "\n",
       "    .dataframe thead th {\n",
       "        text-align: right;\n",
       "    }\n",
       "</style>\n",
       "<table border=\"1\" class=\"dataframe\">\n",
       "  <thead>\n",
       "    <tr style=\"text-align: right;\">\n",
       "      <th></th>\n",
       "      <th>No</th>\n",
       "      <th>X1 transaction date</th>\n",
       "      <th>X2 house age</th>\n",
       "      <th>X3 distance to the nearest MRT station</th>\n",
       "      <th>X4 number of convenience stores</th>\n",
       "      <th>X5 latitude</th>\n",
       "      <th>X6 longitude</th>\n",
       "      <th>Y house price of unit area</th>\n",
       "    </tr>\n",
       "  </thead>\n",
       "  <tbody>\n",
       "    <tr>\n",
       "      <th>0</th>\n",
       "      <td>1</td>\n",
       "      <td>2012.917</td>\n",
       "      <td>32.0</td>\n",
       "      <td>84.87882</td>\n",
       "      <td>10</td>\n",
       "      <td>24.98298</td>\n",
       "      <td>121.54024</td>\n",
       "      <td>37.9</td>\n",
       "    </tr>\n",
       "    <tr>\n",
       "      <th>1</th>\n",
       "      <td>2</td>\n",
       "      <td>2012.917</td>\n",
       "      <td>19.5</td>\n",
       "      <td>306.59470</td>\n",
       "      <td>9</td>\n",
       "      <td>24.98034</td>\n",
       "      <td>121.53951</td>\n",
       "      <td>42.2</td>\n",
       "    </tr>\n",
       "    <tr>\n",
       "      <th>2</th>\n",
       "      <td>3</td>\n",
       "      <td>2013.583</td>\n",
       "      <td>13.3</td>\n",
       "      <td>561.98450</td>\n",
       "      <td>5</td>\n",
       "      <td>24.98746</td>\n",
       "      <td>121.54391</td>\n",
       "      <td>47.3</td>\n",
       "    </tr>\n",
       "    <tr>\n",
       "      <th>3</th>\n",
       "      <td>4</td>\n",
       "      <td>2013.500</td>\n",
       "      <td>13.3</td>\n",
       "      <td>561.98450</td>\n",
       "      <td>5</td>\n",
       "      <td>24.98746</td>\n",
       "      <td>121.54391</td>\n",
       "      <td>54.8</td>\n",
       "    </tr>\n",
       "    <tr>\n",
       "      <th>4</th>\n",
       "      <td>5</td>\n",
       "      <td>2012.833</td>\n",
       "      <td>5.0</td>\n",
       "      <td>390.56840</td>\n",
       "      <td>5</td>\n",
       "      <td>24.97937</td>\n",
       "      <td>121.54245</td>\n",
       "      <td>43.1</td>\n",
       "    </tr>\n",
       "  </tbody>\n",
       "</table>\n",
       "</div>"
      ],
      "text/plain": [
       "   No  X1 transaction date  X2 house age  \\\n",
       "0   1             2012.917          32.0   \n",
       "1   2             2012.917          19.5   \n",
       "2   3             2013.583          13.3   \n",
       "3   4             2013.500          13.3   \n",
       "4   5             2012.833           5.0   \n",
       "\n",
       "   X3 distance to the nearest MRT station  X4 number of convenience stores  \\\n",
       "0                                84.87882                               10   \n",
       "1                               306.59470                                9   \n",
       "2                               561.98450                                5   \n",
       "3                               561.98450                                5   \n",
       "4                               390.56840                                5   \n",
       "\n",
       "   X5 latitude  X6 longitude  Y house price of unit area  \n",
       "0     24.98298     121.54024                        37.9  \n",
       "1     24.98034     121.53951                        42.2  \n",
       "2     24.98746     121.54391                        47.3  \n",
       "3     24.98746     121.54391                        54.8  \n",
       "4     24.97937     121.54245                        43.1  "
      ]
     },
     "execution_count": 262,
     "metadata": {},
     "output_type": "execute_result"
    }
   ],
   "source": [
    "import pandas as pd\n",
    "import numpy as np\n",
    "#Read dataset from CSV file\n",
    "df = pd.read_csv('Real_estate_valuation_data_set.csv')\n",
    "df.head()"
   ]
  },
  {
   "cell_type": "markdown",
   "id": "4a59e306-c856-49b2-96d0-7bfd572d9b67",
   "metadata": {},
   "source": [
    "The dataset consists of 6 feature variables: ***X1 transaction date***, ***X2 house age***, ***X3 distance to the nearest MRT station***, ***X4 number of convenience stores***, ***X5 latitude*** and ***X6 longitude*** and 1 target variable ***Y house price of unit area***."
   ]
  },
  {
   "cell_type": "markdown",
   "id": "a48bcce1-8f47-4565-a663-83f0ef8806dc",
   "metadata": {},
   "source": [
    "### Data Exploration:"
   ]
  },
  {
   "cell_type": "code",
   "execution_count": 263,
   "id": "e56633ea-2bbb-408a-9031-7d39c7e592e3",
   "metadata": {},
   "outputs": [
    {
     "name": "stdout",
     "output_type": "stream",
     "text": [
      "<class 'pandas.core.frame.DataFrame'>\n",
      "RangeIndex: 414 entries, 0 to 413\n",
      "Data columns (total 8 columns):\n",
      " #   Column                                  Non-Null Count  Dtype  \n",
      "---  ------                                  --------------  -----  \n",
      " 0   No                                      414 non-null    int64  \n",
      " 1   X1 transaction date                     414 non-null    float64\n",
      " 2   X2 house age                            414 non-null    float64\n",
      " 3   X3 distance to the nearest MRT station  414 non-null    float64\n",
      " 4   X4 number of convenience stores         414 non-null    int64  \n",
      " 5   X5 latitude                             414 non-null    float64\n",
      " 6   X6 longitude                            414 non-null    float64\n",
      " 7   Y house price of unit area              414 non-null    float64\n",
      "dtypes: float64(6), int64(2)\n",
      "memory usage: 26.0 KB\n"
     ]
    }
   ],
   "source": [
    "#Display information about the DataFrame\n",
    "df.info()"
   ]
  },
  {
   "cell_type": "markdown",
   "id": "3758c655-269a-4c4f-b01d-85b504ad1932",
   "metadata": {},
   "source": [
    "Above is the table of column information, including name, data type, and whether the column contains null values or not."
   ]
  },
  {
   "cell_type": "code",
   "execution_count": 264,
   "id": "441973d6-6755-4c07-b6f4-b0b3a8a4c04b",
   "metadata": {},
   "outputs": [
    {
     "data": {
      "text/html": [
       "<div>\n",
       "<style scoped>\n",
       "    .dataframe tbody tr th:only-of-type {\n",
       "        vertical-align: middle;\n",
       "    }\n",
       "\n",
       "    .dataframe tbody tr th {\n",
       "        vertical-align: top;\n",
       "    }\n",
       "\n",
       "    .dataframe thead th {\n",
       "        text-align: right;\n",
       "    }\n",
       "</style>\n",
       "<table border=\"1\" class=\"dataframe\">\n",
       "  <thead>\n",
       "    <tr style=\"text-align: right;\">\n",
       "      <th></th>\n",
       "      <th>No</th>\n",
       "      <th>X1 transaction date</th>\n",
       "      <th>X2 house age</th>\n",
       "      <th>X3 distance to the nearest MRT station</th>\n",
       "      <th>X4 number of convenience stores</th>\n",
       "      <th>X5 latitude</th>\n",
       "      <th>X6 longitude</th>\n",
       "      <th>Y house price of unit area</th>\n",
       "    </tr>\n",
       "  </thead>\n",
       "  <tbody>\n",
       "    <tr>\n",
       "      <th>count</th>\n",
       "      <td>414.000000</td>\n",
       "      <td>414.000000</td>\n",
       "      <td>414.000000</td>\n",
       "      <td>414.000000</td>\n",
       "      <td>414.000000</td>\n",
       "      <td>414.000000</td>\n",
       "      <td>414.000000</td>\n",
       "      <td>414.000000</td>\n",
       "    </tr>\n",
       "    <tr>\n",
       "      <th>mean</th>\n",
       "      <td>207.500000</td>\n",
       "      <td>2013.148971</td>\n",
       "      <td>17.712560</td>\n",
       "      <td>1083.885689</td>\n",
       "      <td>4.094203</td>\n",
       "      <td>24.969030</td>\n",
       "      <td>121.533361</td>\n",
       "      <td>37.980193</td>\n",
       "    </tr>\n",
       "    <tr>\n",
       "      <th>std</th>\n",
       "      <td>119.655756</td>\n",
       "      <td>0.281967</td>\n",
       "      <td>11.392485</td>\n",
       "      <td>1262.109595</td>\n",
       "      <td>2.945562</td>\n",
       "      <td>0.012410</td>\n",
       "      <td>0.015347</td>\n",
       "      <td>13.606488</td>\n",
       "    </tr>\n",
       "    <tr>\n",
       "      <th>min</th>\n",
       "      <td>1.000000</td>\n",
       "      <td>2012.667000</td>\n",
       "      <td>0.000000</td>\n",
       "      <td>23.382840</td>\n",
       "      <td>0.000000</td>\n",
       "      <td>24.932070</td>\n",
       "      <td>121.473530</td>\n",
       "      <td>7.600000</td>\n",
       "    </tr>\n",
       "    <tr>\n",
       "      <th>25%</th>\n",
       "      <td>104.250000</td>\n",
       "      <td>2012.917000</td>\n",
       "      <td>9.025000</td>\n",
       "      <td>289.324800</td>\n",
       "      <td>1.000000</td>\n",
       "      <td>24.963000</td>\n",
       "      <td>121.528085</td>\n",
       "      <td>27.700000</td>\n",
       "    </tr>\n",
       "    <tr>\n",
       "      <th>50%</th>\n",
       "      <td>207.500000</td>\n",
       "      <td>2013.167000</td>\n",
       "      <td>16.100000</td>\n",
       "      <td>492.231300</td>\n",
       "      <td>4.000000</td>\n",
       "      <td>24.971100</td>\n",
       "      <td>121.538630</td>\n",
       "      <td>38.450000</td>\n",
       "    </tr>\n",
       "    <tr>\n",
       "      <th>75%</th>\n",
       "      <td>310.750000</td>\n",
       "      <td>2013.417000</td>\n",
       "      <td>28.150000</td>\n",
       "      <td>1454.279000</td>\n",
       "      <td>6.000000</td>\n",
       "      <td>24.977455</td>\n",
       "      <td>121.543305</td>\n",
       "      <td>46.600000</td>\n",
       "    </tr>\n",
       "    <tr>\n",
       "      <th>max</th>\n",
       "      <td>414.000000</td>\n",
       "      <td>2013.583000</td>\n",
       "      <td>43.800000</td>\n",
       "      <td>6488.021000</td>\n",
       "      <td>10.000000</td>\n",
       "      <td>25.014590</td>\n",
       "      <td>121.566270</td>\n",
       "      <td>117.500000</td>\n",
       "    </tr>\n",
       "  </tbody>\n",
       "</table>\n",
       "</div>"
      ],
      "text/plain": [
       "               No  X1 transaction date  X2 house age  \\\n",
       "count  414.000000           414.000000    414.000000   \n",
       "mean   207.500000          2013.148971     17.712560   \n",
       "std    119.655756             0.281967     11.392485   \n",
       "min      1.000000          2012.667000      0.000000   \n",
       "25%    104.250000          2012.917000      9.025000   \n",
       "50%    207.500000          2013.167000     16.100000   \n",
       "75%    310.750000          2013.417000     28.150000   \n",
       "max    414.000000          2013.583000     43.800000   \n",
       "\n",
       "       X3 distance to the nearest MRT station  \\\n",
       "count                              414.000000   \n",
       "mean                              1083.885689   \n",
       "std                               1262.109595   \n",
       "min                                 23.382840   \n",
       "25%                                289.324800   \n",
       "50%                                492.231300   \n",
       "75%                               1454.279000   \n",
       "max                               6488.021000   \n",
       "\n",
       "       X4 number of convenience stores  X5 latitude  X6 longitude  \\\n",
       "count                       414.000000   414.000000    414.000000   \n",
       "mean                          4.094203    24.969030    121.533361   \n",
       "std                           2.945562     0.012410      0.015347   \n",
       "min                           0.000000    24.932070    121.473530   \n",
       "25%                           1.000000    24.963000    121.528085   \n",
       "50%                           4.000000    24.971100    121.538630   \n",
       "75%                           6.000000    24.977455    121.543305   \n",
       "max                          10.000000    25.014590    121.566270   \n",
       "\n",
       "       Y house price of unit area  \n",
       "count                  414.000000  \n",
       "mean                    37.980193  \n",
       "std                     13.606488  \n",
       "min                      7.600000  \n",
       "25%                     27.700000  \n",
       "50%                     38.450000  \n",
       "75%                     46.600000  \n",
       "max                    117.500000  "
      ]
     },
     "execution_count": 264,
     "metadata": {},
     "output_type": "execute_result"
    }
   ],
   "source": [
    "#Display descriptive statistics of the DataFrame\n",
    "df.describe()"
   ]
  },
  {
   "cell_type": "markdown",
   "id": "06092d49-965f-4538-8954-1795bf203564",
   "metadata": {},
   "source": [
    "Explore the data by calculating some basic statistics such as count, mean, min, and max of each attribute in the dataset."
   ]
  },
  {
   "cell_type": "code",
   "execution_count": 265,
   "id": "45ad824d-94c0-40bb-a24e-3e4a5159c66a",
   "metadata": {},
   "outputs": [
    {
     "name": "stdout",
     "output_type": "stream",
     "text": [
      "The data does not contain any missing values.\n"
     ]
    }
   ],
   "source": [
    "#Check if DataFrame contains null values\n",
    "if df.isnull().values.any():\n",
    "    print(\"Data contains missing values.\")\n",
    "    #Print rows with missing values\n",
    "    rows_with_null = df[null_values]\n",
    "    print(\"There are missing values in the following rows:\")\n",
    "    print(rows_with_null)\n",
    "else:\n",
    "    print(\"The data does not contain any missing values.\")"
   ]
  },
  {
   "cell_type": "markdown",
   "id": "1cee683c-1913-4906-97b9-0f4567f37f16",
   "metadata": {},
   "source": [
    "### Preprocessing:\n"
   ]
  },
  {
   "cell_type": "code",
   "execution_count": 266,
   "id": "6e227db0-5344-48b3-878b-3c29895c0eac",
   "metadata": {},
   "outputs": [
    {
     "data": {
      "image/png": "[encoded data removed]",
      "text/plain": [
       "<Figure size 640x480 with 1 Axes>"
      ]
     },
     "metadata": {},
     "output_type": "display_data"
    }
   ],
   "source": [
    "import matplotlib.pyplot as plt\n",
    "\n",
    "data = df['Y house price of unit area']\n",
    "# Draw a histogram chart of the Y house price of unit area.\n",
    "plt.hist(data, bins=10, color='blue', edgecolor='black')\n",
    "plt.title('The histogram chart of Y house price of unit area.')\n",
    "plt.show()"
   ]
  },
  {
   "cell_type": "raw",
   "id": "1ac1456c-b59d-4f2e-aa26-93a729d788d1",
   "metadata": {},
   "source": [
    "Based on the histogram chart above, there seem to be one or some outlier points. To improve the model, it's advisable to handle them."
   ]
  },
  {
   "cell_type": "code",
   "execution_count": 267,
   "id": "45fac9d0-9086-4ccc-a822-8dae53ddc54b",
   "metadata": {},
   "outputs": [],
   "source": [
    "def remove_outliers_iqr(df, column_name):\n",
    "    \n",
    "    Q1 = df[column_name].quantile(0.25)\n",
    "    Q3 = df[column_name].quantile(0.75)\n",
    "    IQR = Q3 - Q1\n",
    "    \n",
    "    lower_bound = Q1 - 1.5 * IQR\n",
    "    upper_bound = Q3 + 1.5 * IQR\n",
    "    \n",
    "    df_filtered = df[(df[column_name] >= lower_bound) & (df[column_name] <= upper_bound)]\n",
    "    \n",
    "    return df_filtered"
   ]
  },
  {
   "cell_type": "code",
   "execution_count": 268,
   "id": "0faaded1-e00d-4188-8f4f-0c05c480d6f1",
   "metadata": {},
   "outputs": [
    {
     "data": {
      "text/html": [
       "<div>\n",
       "<style scoped>\n",
       "    .dataframe tbody tr th:only-of-type {\n",
       "        vertical-align: middle;\n",
       "    }\n",
       "\n",
       "    .dataframe tbody tr th {\n",
       "        vertical-align: top;\n",
       "    }\n",
       "\n",
       "    .dataframe thead th {\n",
       "        text-align: right;\n",
       "    }\n",
       "</style>\n",
       "<table border=\"1\" class=\"dataframe\">\n",
       "  <thead>\n",
       "    <tr style=\"text-align: right;\">\n",
       "      <th></th>\n",
       "      <th>No</th>\n",
       "      <th>X1 transaction date</th>\n",
       "      <th>X2 house age</th>\n",
       "      <th>X3 distance to the nearest MRT station</th>\n",
       "      <th>X4 number of convenience stores</th>\n",
       "      <th>X5 latitude</th>\n",
       "      <th>X6 longitude</th>\n",
       "      <th>Y house price of unit area</th>\n",
       "    </tr>\n",
       "  </thead>\n",
       "  <tbody>\n",
       "    <tr>\n",
       "      <th>0</th>\n",
       "      <td>1</td>\n",
       "      <td>2012.917</td>\n",
       "      <td>32.0</td>\n",
       "      <td>84.87882</td>\n",
       "      <td>10</td>\n",
       "      <td>24.98298</td>\n",
       "      <td>121.54024</td>\n",
       "      <td>37.9</td>\n",
       "    </tr>\n",
       "    <tr>\n",
       "      <th>1</th>\n",
       "      <td>2</td>\n",
       "      <td>2012.917</td>\n",
       "      <td>19.5</td>\n",
       "      <td>306.59470</td>\n",
       "      <td>9</td>\n",
       "      <td>24.98034</td>\n",
       "      <td>121.53951</td>\n",
       "      <td>42.2</td>\n",
       "    </tr>\n",
       "    <tr>\n",
       "      <th>2</th>\n",
       "      <td>3</td>\n",
       "      <td>2013.583</td>\n",
       "      <td>13.3</td>\n",
       "      <td>561.98450</td>\n",
       "      <td>5</td>\n",
       "      <td>24.98746</td>\n",
       "      <td>121.54391</td>\n",
       "      <td>47.3</td>\n",
       "    </tr>\n",
       "    <tr>\n",
       "      <th>3</th>\n",
       "      <td>4</td>\n",
       "      <td>2013.500</td>\n",
       "      <td>13.3</td>\n",
       "      <td>561.98450</td>\n",
       "      <td>5</td>\n",
       "      <td>24.98746</td>\n",
       "      <td>121.54391</td>\n",
       "      <td>54.8</td>\n",
       "    </tr>\n",
       "    <tr>\n",
       "      <th>4</th>\n",
       "      <td>5</td>\n",
       "      <td>2012.833</td>\n",
       "      <td>5.0</td>\n",
       "      <td>390.56840</td>\n",
       "      <td>5</td>\n",
       "      <td>24.97937</td>\n",
       "      <td>121.54245</td>\n",
       "      <td>43.1</td>\n",
       "    </tr>\n",
       "    <tr>\n",
       "      <th>...</th>\n",
       "      <td>...</td>\n",
       "      <td>...</td>\n",
       "      <td>...</td>\n",
       "      <td>...</td>\n",
       "      <td>...</td>\n",
       "      <td>...</td>\n",
       "      <td>...</td>\n",
       "      <td>...</td>\n",
       "    </tr>\n",
       "    <tr>\n",
       "      <th>409</th>\n",
       "      <td>410</td>\n",
       "      <td>2013.000</td>\n",
       "      <td>13.7</td>\n",
       "      <td>4082.01500</td>\n",
       "      <td>0</td>\n",
       "      <td>24.94155</td>\n",
       "      <td>121.50381</td>\n",
       "      <td>15.4</td>\n",
       "    </tr>\n",
       "    <tr>\n",
       "      <th>410</th>\n",
       "      <td>411</td>\n",
       "      <td>2012.667</td>\n",
       "      <td>5.6</td>\n",
       "      <td>90.45606</td>\n",
       "      <td>9</td>\n",
       "      <td>24.97433</td>\n",
       "      <td>121.54310</td>\n",
       "      <td>50.0</td>\n",
       "    </tr>\n",
       "    <tr>\n",
       "      <th>411</th>\n",
       "      <td>412</td>\n",
       "      <td>2013.250</td>\n",
       "      <td>18.8</td>\n",
       "      <td>390.96960</td>\n",
       "      <td>7</td>\n",
       "      <td>24.97923</td>\n",
       "      <td>121.53986</td>\n",
       "      <td>40.6</td>\n",
       "    </tr>\n",
       "    <tr>\n",
       "      <th>412</th>\n",
       "      <td>413</td>\n",
       "      <td>2013.000</td>\n",
       "      <td>8.1</td>\n",
       "      <td>104.81010</td>\n",
       "      <td>5</td>\n",
       "      <td>24.96674</td>\n",
       "      <td>121.54067</td>\n",
       "      <td>52.5</td>\n",
       "    </tr>\n",
       "    <tr>\n",
       "      <th>413</th>\n",
       "      <td>414</td>\n",
       "      <td>2013.500</td>\n",
       "      <td>6.5</td>\n",
       "      <td>90.45606</td>\n",
       "      <td>9</td>\n",
       "      <td>24.97433</td>\n",
       "      <td>121.54310</td>\n",
       "      <td>63.9</td>\n",
       "    </tr>\n",
       "  </tbody>\n",
       "</table>\n",
       "<p>411 rows × 8 columns</p>\n",
       "</div>"
      ],
      "text/plain": [
       "      No  X1 transaction date  X2 house age  \\\n",
       "0      1             2012.917          32.0   \n",
       "1      2             2012.917          19.5   \n",
       "2      3             2013.583          13.3   \n",
       "3      4             2013.500          13.3   \n",
       "4      5             2012.833           5.0   \n",
       "..   ...                  ...           ...   \n",
       "409  410             2013.000          13.7   \n",
       "410  411             2012.667           5.6   \n",
       "411  412             2013.250          18.8   \n",
       "412  413             2013.000           8.1   \n",
       "413  414             2013.500           6.5   \n",
       "\n",
       "     X3 distance to the nearest MRT station  X4 number of convenience stores  \\\n",
       "0                                  84.87882                               10   \n",
       "1                                 306.59470                                9   \n",
       "2                                 561.98450                                5   \n",
       "3                                 561.98450                                5   \n",
       "4                                 390.56840                                5   \n",
       "..                                      ...                              ...   \n",
       "409                              4082.01500                                0   \n",
       "410                                90.45606                                9   \n",
       "411                               390.96960                                7   \n",
       "412                               104.81010                                5   \n",
       "413                                90.45606                                9   \n",
       "\n",
       "     X5 latitude  X6 longitude  Y house price of unit area  \n",
       "0       24.98298     121.54024                        37.9  \n",
       "1       24.98034     121.53951                        42.2  \n",
       "2       24.98746     121.54391                        47.3  \n",
       "3       24.98746     121.54391                        54.8  \n",
       "4       24.97937     121.54245                        43.1  \n",
       "..           ...           ...                         ...  \n",
       "409     24.94155     121.50381                        15.4  \n",
       "410     24.97433     121.54310                        50.0  \n",
       "411     24.97923     121.53986                        40.6  \n",
       "412     24.96674     121.54067                        52.5  \n",
       "413     24.97433     121.54310                        63.9  \n",
       "\n",
       "[411 rows x 8 columns]"
      ]
     },
     "execution_count": 268,
     "metadata": {},
     "output_type": "execute_result"
    }
   ],
   "source": [
    "df = remove_outliers_iqr(df, 'Y house price of unit area')\n",
    "df"
   ]
  },
  {
   "cell_type": "code",
   "execution_count": 269,
   "id": "69068a99-4068-446a-bba0-8f6704695050",
   "metadata": {},
   "outputs": [],
   "source": [
    "def min_max_scaling(df, columns):\n",
    "    for column in columns:\n",
    "        min_val = df[column].min()\n",
    "        max_val = df[column].max()\n",
    "        df[column] = (df[column] - min_val) / (max_val - min_val)\n",
    "    return df\n",
    "\n",
    "columns_to_scale = ['X3 distance to the nearest MRT station', 'X2 house age', 'X4 number of convenience stores']\n",
    "df_scaled = min_max_scaling(df.copy(), columns_to_scale)"
   ]
  },
  {
   "cell_type": "markdown",
   "id": "18716a5b-8a48-48b5-a457-6dd9700bd9cd",
   "metadata": {},
   "source": [
    "Use the min-max scaling technique to preprocess the data, making it scaled within a small range for easier visualization and understanding."
   ]
  },
  {
   "cell_type": "code",
   "execution_count": 270,
   "id": "ebdfed06-6662-473a-8829-5effd26420fc",
   "metadata": {},
   "outputs": [
    {
     "data": {
      "text/html": [
       "<div>\n",
       "<style scoped>\n",
       "    .dataframe tbody tr th:only-of-type {\n",
       "        vertical-align: middle;\n",
       "    }\n",
       "\n",
       "    .dataframe tbody tr th {\n",
       "        vertical-align: top;\n",
       "    }\n",
       "\n",
       "    .dataframe thead th {\n",
       "        text-align: right;\n",
       "    }\n",
       "</style>\n",
       "<table border=\"1\" class=\"dataframe\">\n",
       "  <thead>\n",
       "    <tr style=\"text-align: right;\">\n",
       "      <th></th>\n",
       "      <th>No</th>\n",
       "      <th>X1 transaction date</th>\n",
       "      <th>X2 house age</th>\n",
       "      <th>X3 distance to the nearest MRT station</th>\n",
       "      <th>X4 number of convenience stores</th>\n",
       "      <th>X5 latitude</th>\n",
       "      <th>X6 longitude</th>\n",
       "      <th>Y house price of unit area</th>\n",
       "    </tr>\n",
       "  </thead>\n",
       "  <tbody>\n",
       "    <tr>\n",
       "      <th>0</th>\n",
       "      <td>1</td>\n",
       "      <td>2012.917</td>\n",
       "      <td>0.730594</td>\n",
       "      <td>0.009513</td>\n",
       "      <td>1.0</td>\n",
       "      <td>24.98298</td>\n",
       "      <td>121.54024</td>\n",
       "      <td>37.9</td>\n",
       "    </tr>\n",
       "    <tr>\n",
       "      <th>1</th>\n",
       "      <td>2</td>\n",
       "      <td>2012.917</td>\n",
       "      <td>0.445205</td>\n",
       "      <td>0.043809</td>\n",
       "      <td>0.9</td>\n",
       "      <td>24.98034</td>\n",
       "      <td>121.53951</td>\n",
       "      <td>42.2</td>\n",
       "    </tr>\n",
       "    <tr>\n",
       "      <th>2</th>\n",
       "      <td>3</td>\n",
       "      <td>2013.583</td>\n",
       "      <td>0.303653</td>\n",
       "      <td>0.083315</td>\n",
       "      <td>0.5</td>\n",
       "      <td>24.98746</td>\n",
       "      <td>121.54391</td>\n",
       "      <td>47.3</td>\n",
       "    </tr>\n",
       "    <tr>\n",
       "      <th>3</th>\n",
       "      <td>4</td>\n",
       "      <td>2013.500</td>\n",
       "      <td>0.303653</td>\n",
       "      <td>0.083315</td>\n",
       "      <td>0.5</td>\n",
       "      <td>24.98746</td>\n",
       "      <td>121.54391</td>\n",
       "      <td>54.8</td>\n",
       "    </tr>\n",
       "    <tr>\n",
       "      <th>4</th>\n",
       "      <td>5</td>\n",
       "      <td>2012.833</td>\n",
       "      <td>0.114155</td>\n",
       "      <td>0.056799</td>\n",
       "      <td>0.5</td>\n",
       "      <td>24.97937</td>\n",
       "      <td>121.54245</td>\n",
       "      <td>43.1</td>\n",
       "    </tr>\n",
       "  </tbody>\n",
       "</table>\n",
       "</div>"
      ],
      "text/plain": [
       "   No  X1 transaction date  X2 house age  \\\n",
       "0   1             2012.917      0.730594   \n",
       "1   2             2012.917      0.445205   \n",
       "2   3             2013.583      0.303653   \n",
       "3   4             2013.500      0.303653   \n",
       "4   5             2012.833      0.114155   \n",
       "\n",
       "   X3 distance to the nearest MRT station  X4 number of convenience stores  \\\n",
       "0                                0.009513                              1.0   \n",
       "1                                0.043809                              0.9   \n",
       "2                                0.083315                              0.5   \n",
       "3                                0.083315                              0.5   \n",
       "4                                0.056799                              0.5   \n",
       "\n",
       "   X5 latitude  X6 longitude  Y house price of unit area  \n",
       "0     24.98298     121.54024                        37.9  \n",
       "1     24.98034     121.53951                        42.2  \n",
       "2     24.98746     121.54391                        47.3  \n",
       "3     24.98746     121.54391                        54.8  \n",
       "4     24.97937     121.54245                        43.1  "
      ]
     },
     "execution_count": 270,
     "metadata": {},
     "output_type": "execute_result"
    }
   ],
   "source": [
    "df_scaled.head()"
   ]
  },
  {
   "cell_type": "markdown",
   "id": "ef836c9a-02cc-4cf6-a4a4-ffba22b5adbe",
   "metadata": {},
   "source": [
    "Convert the data type of the transaction date column to datetime."
   ]
  },
  {
   "cell_type": "code",
   "execution_count": 271,
   "id": "5e641220-3df8-4a49-8d66-e097a5ecc2d7",
   "metadata": {},
   "outputs": [
    {
     "data": {
      "text/html": [
       "<div>\n",
       "<style scoped>\n",
       "    .dataframe tbody tr th:only-of-type {\n",
       "        vertical-align: middle;\n",
       "    }\n",
       "\n",
       "    .dataframe tbody tr th {\n",
       "        vertical-align: top;\n",
       "    }\n",
       "\n",
       "    .dataframe thead th {\n",
       "        text-align: right;\n",
       "    }\n",
       "</style>\n",
       "<table border=\"1\" class=\"dataframe\">\n",
       "  <thead>\n",
       "    <tr style=\"text-align: right;\">\n",
       "      <th></th>\n",
       "      <th>No</th>\n",
       "      <th>X1 transaction date</th>\n",
       "      <th>X2 house age</th>\n",
       "      <th>X3 distance to the nearest MRT station</th>\n",
       "      <th>X4 number of convenience stores</th>\n",
       "      <th>X5 latitude</th>\n",
       "      <th>X6 longitude</th>\n",
       "      <th>Y house price of unit area</th>\n",
       "    </tr>\n",
       "  </thead>\n",
       "  <tbody>\n",
       "    <tr>\n",
       "      <th>0</th>\n",
       "      <td>1</td>\n",
       "      <td>2012-11-30</td>\n",
       "      <td>0.730594</td>\n",
       "      <td>0.009513</td>\n",
       "      <td>1.0</td>\n",
       "      <td>24.98298</td>\n",
       "      <td>121.54024</td>\n",
       "      <td>37.9</td>\n",
       "    </tr>\n",
       "    <tr>\n",
       "      <th>1</th>\n",
       "      <td>2</td>\n",
       "      <td>2012-11-30</td>\n",
       "      <td>0.445205</td>\n",
       "      <td>0.043809</td>\n",
       "      <td>0.9</td>\n",
       "      <td>24.98034</td>\n",
       "      <td>121.53951</td>\n",
       "      <td>42.2</td>\n",
       "    </tr>\n",
       "    <tr>\n",
       "      <th>2</th>\n",
       "      <td>3</td>\n",
       "      <td>2013-08-01</td>\n",
       "      <td>0.303653</td>\n",
       "      <td>0.083315</td>\n",
       "      <td>0.5</td>\n",
       "      <td>24.98746</td>\n",
       "      <td>121.54391</td>\n",
       "      <td>47.3</td>\n",
       "    </tr>\n",
       "    <tr>\n",
       "      <th>3</th>\n",
       "      <td>4</td>\n",
       "      <td>2013-07-02</td>\n",
       "      <td>0.303653</td>\n",
       "      <td>0.083315</td>\n",
       "      <td>0.5</td>\n",
       "      <td>24.98746</td>\n",
       "      <td>121.54391</td>\n",
       "      <td>54.8</td>\n",
       "    </tr>\n",
       "    <tr>\n",
       "      <th>4</th>\n",
       "      <td>5</td>\n",
       "      <td>2012-10-31</td>\n",
       "      <td>0.114155</td>\n",
       "      <td>0.056799</td>\n",
       "      <td>0.5</td>\n",
       "      <td>24.97937</td>\n",
       "      <td>121.54245</td>\n",
       "      <td>43.1</td>\n",
       "    </tr>\n",
       "  </tbody>\n",
       "</table>\n",
       "</div>"
      ],
      "text/plain": [
       "   No X1 transaction date  X2 house age  \\\n",
       "0   1          2012-11-30      0.730594   \n",
       "1   2          2012-11-30      0.445205   \n",
       "2   3          2013-08-01      0.303653   \n",
       "3   4          2013-07-02      0.303653   \n",
       "4   5          2012-10-31      0.114155   \n",
       "\n",
       "   X3 distance to the nearest MRT station  X4 number of convenience stores  \\\n",
       "0                                0.009513                              1.0   \n",
       "1                                0.043809                              0.9   \n",
       "2                                0.083315                              0.5   \n",
       "3                                0.083315                              0.5   \n",
       "4                                0.056799                              0.5   \n",
       "\n",
       "   X5 latitude  X6 longitude  Y house price of unit area  \n",
       "0     24.98298     121.54024                        37.9  \n",
       "1     24.98034     121.53951                        42.2  \n",
       "2     24.98746     121.54391                        47.3  \n",
       "3     24.98746     121.54391                        54.8  \n",
       "4     24.97937     121.54245                        43.1  "
      ]
     },
     "execution_count": 271,
     "metadata": {},
     "output_type": "execute_result"
    }
   ],
   "source": [
    "# retrieve the column \"X1 transaction date\" \n",
    "data = df_scaled['X1 transaction date']\n",
    "df1 = pd.DataFrame(data)\n",
    "\n",
    "# Split into year and day of the year\n",
    "df1['Year'] = df1['X1 transaction date'].astype(int)\n",
    "df1['DayOfYear'] = ((df1['X1 transaction date'] - df1['Year']) * 365).astype(int)\n",
    "\n",
    "# Convert the number of days in the year to the corresponding day and month\n",
    "df1['Date'] = pd.to_datetime(df1['Year'].astype(str), format='%Y') + pd.to_timedelta(df1['DayOfYear'], unit='D')\n",
    "\n",
    "df_scaled['X1 transaction date'] = df1['Date']\n",
    "df_scaled.head()"
   ]
  },
  {
   "cell_type": "markdown",
   "id": "a69119bd-4731-4087-b731-9a0ebea64843",
   "metadata": {},
   "source": [
    "We can combine the latitude and longitude columns into one because if they stand alone, they don't make much sense. Below is the function to combine longitude and latitude into a single value. \n",
    "The function is taken from the soure [ https://datascience.stackexchange.com/questions/49553/combining-latitude-longitude-position-into-single-featur](URL)\n",
    "e"
   ]
  },
  {
   "cell_type": "code",
   "execution_count": 272,
   "id": "684319e6-f4ff-4454-815c-61f29d186a28",
   "metadata": {},
   "outputs": [],
   "source": [
    "from math import radians, cos, sin, asin, sqrt\n",
    "\n",
    "def single_pt_haversine(lat, lng, degrees=True):\n",
    "    r = 6371 # Earth's radius (km).\n",
    "\n",
    "    # Convert decimal degrees to radians\n",
    "    if degrees:\n",
    "        lat, lng = map(radians, [lat, lng])\n",
    "\n",
    "    # 'Single-point' Haversine formula\n",
    "    a = sin(lat/2)**2 + cos(lat) * sin(lng/2)**2\n",
    "    d = 2 * r * asin(sqrt(a)) \n",
    "\n",
    "    return d"
   ]
  },
  {
   "cell_type": "markdown",
   "id": "960911a4-bef2-417d-bb7b-b8a64f655311",
   "metadata": {},
   "source": [
    "Create a new column, X5 location, to store the combined value of longitude and latitude."
   ]
  },
  {
   "cell_type": "code",
   "execution_count": 273,
   "id": "781bb751-2891-4770-a8df-c6db5898fff8",
   "metadata": {},
   "outputs": [
    {
     "data": {
      "text/html": [
       "<div>\n",
       "<style scoped>\n",
       "    .dataframe tbody tr th:only-of-type {\n",
       "        vertical-align: middle;\n",
       "    }\n",
       "\n",
       "    .dataframe tbody tr th {\n",
       "        vertical-align: top;\n",
       "    }\n",
       "\n",
       "    .dataframe thead th {\n",
       "        text-align: right;\n",
       "    }\n",
       "</style>\n",
       "<table border=\"1\" class=\"dataframe\">\n",
       "  <thead>\n",
       "    <tr style=\"text-align: right;\">\n",
       "      <th></th>\n",
       "      <th>No</th>\n",
       "      <th>X1 transaction date</th>\n",
       "      <th>X2 house age</th>\n",
       "      <th>X3 distance to the nearest MRT station</th>\n",
       "      <th>X4 number of convenience stores</th>\n",
       "      <th>X5 latitude</th>\n",
       "      <th>X6 longitude</th>\n",
       "      <th>Y house price of unit area</th>\n",
       "      <th>X5 location</th>\n",
       "    </tr>\n",
       "  </thead>\n",
       "  <tbody>\n",
       "    <tr>\n",
       "      <th>0</th>\n",
       "      <td>1</td>\n",
       "      <td>2012-11-30</td>\n",
       "      <td>0.730594</td>\n",
       "      <td>0.009513</td>\n",
       "      <td>1.0</td>\n",
       "      <td>24.98298</td>\n",
       "      <td>121.54024</td>\n",
       "      <td>37.9</td>\n",
       "      <td>13154.826996</td>\n",
       "    </tr>\n",
       "    <tr>\n",
       "      <th>1</th>\n",
       "      <td>2</td>\n",
       "      <td>2012-11-30</td>\n",
       "      <td>0.445205</td>\n",
       "      <td>0.043809</td>\n",
       "      <td>0.9</td>\n",
       "      <td>24.98034</td>\n",
       "      <td>121.53951</td>\n",
       "      <td>42.2</td>\n",
       "      <td>13154.829429</td>\n",
       "    </tr>\n",
       "    <tr>\n",
       "      <th>2</th>\n",
       "      <td>3</td>\n",
       "      <td>2013-08-01</td>\n",
       "      <td>0.303653</td>\n",
       "      <td>0.083315</td>\n",
       "      <td>0.5</td>\n",
       "      <td>24.98746</td>\n",
       "      <td>121.54391</td>\n",
       "      <td>47.3</td>\n",
       "      <td>13155.060033</td>\n",
       "    </tr>\n",
       "    <tr>\n",
       "      <th>3</th>\n",
       "      <td>4</td>\n",
       "      <td>2013-07-02</td>\n",
       "      <td>0.303653</td>\n",
       "      <td>0.083315</td>\n",
       "      <td>0.5</td>\n",
       "      <td>24.98746</td>\n",
       "      <td>121.54391</td>\n",
       "      <td>54.8</td>\n",
       "      <td>13155.060033</td>\n",
       "    </tr>\n",
       "    <tr>\n",
       "      <th>4</th>\n",
       "      <td>5</td>\n",
       "      <td>2012-10-31</td>\n",
       "      <td>0.114155</td>\n",
       "      <td>0.056799</td>\n",
       "      <td>0.5</td>\n",
       "      <td>24.97937</td>\n",
       "      <td>121.54245</td>\n",
       "      <td>43.1</td>\n",
       "      <td>13155.143344</td>\n",
       "    </tr>\n",
       "  </tbody>\n",
       "</table>\n",
       "</div>"
      ],
      "text/plain": [
       "   No X1 transaction date  X2 house age  \\\n",
       "0   1          2012-11-30      0.730594   \n",
       "1   2          2012-11-30      0.445205   \n",
       "2   3          2013-08-01      0.303653   \n",
       "3   4          2013-07-02      0.303653   \n",
       "4   5          2012-10-31      0.114155   \n",
       "\n",
       "   X3 distance to the nearest MRT station  X4 number of convenience stores  \\\n",
       "0                                0.009513                              1.0   \n",
       "1                                0.043809                              0.9   \n",
       "2                                0.083315                              0.5   \n",
       "3                                0.083315                              0.5   \n",
       "4                                0.056799                              0.5   \n",
       "\n",
       "   X5 latitude  X6 longitude  Y house price of unit area   X5 location  \n",
       "0     24.98298     121.54024                        37.9  13154.826996  \n",
       "1     24.98034     121.53951                        42.2  13154.829429  \n",
       "2     24.98746     121.54391                        47.3  13155.060033  \n",
       "3     24.98746     121.54391                        54.8  13155.060033  \n",
       "4     24.97937     121.54245                        43.1  13155.143344  "
      ]
     },
     "execution_count": 273,
     "metadata": {},
     "output_type": "execute_result"
    }
   ],
   "source": [
    "for index, row in df.iterrows():\n",
    "    df_scaled.at[index, 'X5 location'] = single_pt_haversine(row['X5 latitude'], row['X6 longitude'])\n",
    "\n",
    "df_scaled.head()"
   ]
  },
  {
   "cell_type": "markdown",
   "id": "b3a636d5-d3a7-477e-be7c-202cba447bff",
   "metadata": {},
   "source": [
    "Finally, we need to delete the two columns of longitude and latitude."
   ]
  },
  {
   "cell_type": "code",
   "execution_count": 274,
   "id": "825b6000-6acc-416e-9086-98d44b5275af",
   "metadata": {},
   "outputs": [
    {
     "data": {
      "text/html": [
       "<div>\n",
       "<style scoped>\n",
       "    .dataframe tbody tr th:only-of-type {\n",
       "        vertical-align: middle;\n",
       "    }\n",
       "\n",
       "    .dataframe tbody tr th {\n",
       "        vertical-align: top;\n",
       "    }\n",
       "\n",
       "    .dataframe thead th {\n",
       "        text-align: right;\n",
       "    }\n",
       "</style>\n",
       "<table border=\"1\" class=\"dataframe\">\n",
       "  <thead>\n",
       "    <tr style=\"text-align: right;\">\n",
       "      <th></th>\n",
       "      <th>No</th>\n",
       "      <th>X1 transaction date</th>\n",
       "      <th>X2 house age</th>\n",
       "      <th>X3 distance to the nearest MRT station</th>\n",
       "      <th>X4 number of convenience stores</th>\n",
       "      <th>Y house price of unit area</th>\n",
       "      <th>X5 location</th>\n",
       "    </tr>\n",
       "  </thead>\n",
       "  <tbody>\n",
       "    <tr>\n",
       "      <th>0</th>\n",
       "      <td>1</td>\n",
       "      <td>2012-11-30</td>\n",
       "      <td>0.730594</td>\n",
       "      <td>0.009513</td>\n",
       "      <td>1.0</td>\n",
       "      <td>37.9</td>\n",
       "      <td>13154.826996</td>\n",
       "    </tr>\n",
       "    <tr>\n",
       "      <th>1</th>\n",
       "      <td>2</td>\n",
       "      <td>2012-11-30</td>\n",
       "      <td>0.445205</td>\n",
       "      <td>0.043809</td>\n",
       "      <td>0.9</td>\n",
       "      <td>42.2</td>\n",
       "      <td>13154.829429</td>\n",
       "    </tr>\n",
       "    <tr>\n",
       "      <th>2</th>\n",
       "      <td>3</td>\n",
       "      <td>2013-08-01</td>\n",
       "      <td>0.303653</td>\n",
       "      <td>0.083315</td>\n",
       "      <td>0.5</td>\n",
       "      <td>47.3</td>\n",
       "      <td>13155.060033</td>\n",
       "    </tr>\n",
       "    <tr>\n",
       "      <th>3</th>\n",
       "      <td>4</td>\n",
       "      <td>2013-07-02</td>\n",
       "      <td>0.303653</td>\n",
       "      <td>0.083315</td>\n",
       "      <td>0.5</td>\n",
       "      <td>54.8</td>\n",
       "      <td>13155.060033</td>\n",
       "    </tr>\n",
       "    <tr>\n",
       "      <th>4</th>\n",
       "      <td>5</td>\n",
       "      <td>2012-10-31</td>\n",
       "      <td>0.114155</td>\n",
       "      <td>0.056799</td>\n",
       "      <td>0.5</td>\n",
       "      <td>43.1</td>\n",
       "      <td>13155.143344</td>\n",
       "    </tr>\n",
       "  </tbody>\n",
       "</table>\n",
       "</div>"
      ],
      "text/plain": [
       "   No X1 transaction date  X2 house age  \\\n",
       "0   1          2012-11-30      0.730594   \n",
       "1   2          2012-11-30      0.445205   \n",
       "2   3          2013-08-01      0.303653   \n",
       "3   4          2013-07-02      0.303653   \n",
       "4   5          2012-10-31      0.114155   \n",
       "\n",
       "   X3 distance to the nearest MRT station  X4 number of convenience stores  \\\n",
       "0                                0.009513                              1.0   \n",
       "1                                0.043809                              0.9   \n",
       "2                                0.083315                              0.5   \n",
       "3                                0.083315                              0.5   \n",
       "4                                0.056799                              0.5   \n",
       "\n",
       "   Y house price of unit area   X5 location  \n",
       "0                        37.9  13154.826996  \n",
       "1                        42.2  13154.829429  \n",
       "2                        47.3  13155.060033  \n",
       "3                        54.8  13155.060033  \n",
       "4                        43.1  13155.143344  "
      ]
     },
     "execution_count": 274,
     "metadata": {},
     "output_type": "execute_result"
    }
   ],
   "source": [
    "df_scaled = df_scaled.drop(columns = ['X5 latitude', 'X6 longitude'] )\n",
    "df_scaled.head()"
   ]
  },
  {
   "cell_type": "markdown",
   "id": "ab17642e-791f-4672-b8b0-17fe62c74c8a",
   "metadata": {},
   "source": [
    "Return the position of the columns according to ascending feature order, with the target variable at the end (for aesthetic purposes)."
   ]
  },
  {
   "cell_type": "code",
   "execution_count": 275,
   "id": "9025e0a2-78d3-4d49-9432-71adaebc855f",
   "metadata": {},
   "outputs": [
    {
     "data": {
      "text/html": [
       "<div>\n",
       "<style scoped>\n",
       "    .dataframe tbody tr th:only-of-type {\n",
       "        vertical-align: middle;\n",
       "    }\n",
       "\n",
       "    .dataframe tbody tr th {\n",
       "        vertical-align: top;\n",
       "    }\n",
       "\n",
       "    .dataframe thead th {\n",
       "        text-align: right;\n",
       "    }\n",
       "</style>\n",
       "<table border=\"1\" class=\"dataframe\">\n",
       "  <thead>\n",
       "    <tr style=\"text-align: right;\">\n",
       "      <th></th>\n",
       "      <th>X1 transaction date</th>\n",
       "      <th>X2 house age</th>\n",
       "      <th>X3 distance to the nearest MRT station</th>\n",
       "      <th>X4 number of convenience stores</th>\n",
       "      <th>X5 location</th>\n",
       "      <th>Y house price of unit area</th>\n",
       "    </tr>\n",
       "  </thead>\n",
       "  <tbody>\n",
       "    <tr>\n",
       "      <th>0</th>\n",
       "      <td>2012-11-30</td>\n",
       "      <td>0.730594</td>\n",
       "      <td>0.009513</td>\n",
       "      <td>1.0</td>\n",
       "      <td>13154.826996</td>\n",
       "      <td>37.9</td>\n",
       "    </tr>\n",
       "    <tr>\n",
       "      <th>1</th>\n",
       "      <td>2012-11-30</td>\n",
       "      <td>0.445205</td>\n",
       "      <td>0.043809</td>\n",
       "      <td>0.9</td>\n",
       "      <td>13154.829429</td>\n",
       "      <td>42.2</td>\n",
       "    </tr>\n",
       "    <tr>\n",
       "      <th>2</th>\n",
       "      <td>2013-08-01</td>\n",
       "      <td>0.303653</td>\n",
       "      <td>0.083315</td>\n",
       "      <td>0.5</td>\n",
       "      <td>13155.060033</td>\n",
       "      <td>47.3</td>\n",
       "    </tr>\n",
       "    <tr>\n",
       "      <th>3</th>\n",
       "      <td>2013-07-02</td>\n",
       "      <td>0.303653</td>\n",
       "      <td>0.083315</td>\n",
       "      <td>0.5</td>\n",
       "      <td>13155.060033</td>\n",
       "      <td>54.8</td>\n",
       "    </tr>\n",
       "    <tr>\n",
       "      <th>4</th>\n",
       "      <td>2012-10-31</td>\n",
       "      <td>0.114155</td>\n",
       "      <td>0.056799</td>\n",
       "      <td>0.5</td>\n",
       "      <td>13155.143344</td>\n",
       "      <td>43.1</td>\n",
       "    </tr>\n",
       "  </tbody>\n",
       "</table>\n",
       "</div>"
      ],
      "text/plain": [
       "  X1 transaction date  X2 house age  X3 distance to the nearest MRT station  \\\n",
       "0          2012-11-30      0.730594                                0.009513   \n",
       "1          2012-11-30      0.445205                                0.043809   \n",
       "2          2013-08-01      0.303653                                0.083315   \n",
       "3          2013-07-02      0.303653                                0.083315   \n",
       "4          2012-10-31      0.114155                                0.056799   \n",
       "\n",
       "   X4 number of convenience stores   X5 location  Y house price of unit area  \n",
       "0                              1.0  13154.826996                        37.9  \n",
       "1                              0.9  13154.829429                        42.2  \n",
       "2                              0.5  13155.060033                        47.3  \n",
       "3                              0.5  13155.060033                        54.8  \n",
       "4                              0.5  13155.143344                        43.1  "
      ]
     },
     "execution_count": 275,
     "metadata": {},
     "output_type": "execute_result"
    }
   ],
   "source": [
    "# List of columns in the new order\n",
    "new_column_order = ['X1 transaction date', 'X2 house age', 'X3 distance to the nearest MRT station', 'X4 number of convenience stores', 'X5 location', 'Y house price of unit area']\n",
    "\n",
    "# Reorder the columns in the DataFrame\n",
    "df_scaled = df_scaled.reindex(columns=new_column_order)\n",
    "\n",
    "df_scaled.head()"
   ]
  },
  {
   "cell_type": "markdown",
   "id": "574c721d-d060-4942-915f-4ad3617ef620",
   "metadata": {},
   "source": [
    "Continue using min-max scaling for the X5 location column to synchronize the data of the feature variable."
   ]
  },
  {
   "cell_type": "code",
   "execution_count": 276,
   "id": "725479d1-c3e1-48ff-9b34-f1e8f2e3c1ea",
   "metadata": {},
   "outputs": [
    {
     "data": {
      "text/html": [
       "<div>\n",
       "<style scoped>\n",
       "    .dataframe tbody tr th:only-of-type {\n",
       "        vertical-align: middle;\n",
       "    }\n",
       "\n",
       "    .dataframe tbody tr th {\n",
       "        vertical-align: top;\n",
       "    }\n",
       "\n",
       "    .dataframe thead th {\n",
       "        text-align: right;\n",
       "    }\n",
       "</style>\n",
       "<table border=\"1\" class=\"dataframe\">\n",
       "  <thead>\n",
       "    <tr style=\"text-align: right;\">\n",
       "      <th></th>\n",
       "      <th>X1 transaction date</th>\n",
       "      <th>X2 house age</th>\n",
       "      <th>X3 distance to the nearest MRT station</th>\n",
       "      <th>X4 number of convenience stores</th>\n",
       "      <th>X5 location</th>\n",
       "      <th>Y house price of unit area</th>\n",
       "    </tr>\n",
       "  </thead>\n",
       "  <tbody>\n",
       "    <tr>\n",
       "      <th>0</th>\n",
       "      <td>2012-11-30</td>\n",
       "      <td>0.730594</td>\n",
       "      <td>0.009513</td>\n",
       "      <td>1.0</td>\n",
       "      <td>0.634810</td>\n",
       "      <td>37.9</td>\n",
       "    </tr>\n",
       "    <tr>\n",
       "      <th>1</th>\n",
       "      <td>2012-11-30</td>\n",
       "      <td>0.445205</td>\n",
       "      <td>0.043809</td>\n",
       "      <td>0.9</td>\n",
       "      <td>0.635077</td>\n",
       "      <td>42.2</td>\n",
       "    </tr>\n",
       "    <tr>\n",
       "      <th>2</th>\n",
       "      <td>2013-08-01</td>\n",
       "      <td>0.303653</td>\n",
       "      <td>0.083315</td>\n",
       "      <td>0.5</td>\n",
       "      <td>0.660353</td>\n",
       "      <td>47.3</td>\n",
       "    </tr>\n",
       "    <tr>\n",
       "      <th>3</th>\n",
       "      <td>2013-07-02</td>\n",
       "      <td>0.303653</td>\n",
       "      <td>0.083315</td>\n",
       "      <td>0.5</td>\n",
       "      <td>0.660353</td>\n",
       "      <td>54.8</td>\n",
       "    </tr>\n",
       "    <tr>\n",
       "      <th>4</th>\n",
       "      <td>2012-10-31</td>\n",
       "      <td>0.114155</td>\n",
       "      <td>0.056799</td>\n",
       "      <td>0.5</td>\n",
       "      <td>0.669484</td>\n",
       "      <td>43.1</td>\n",
       "    </tr>\n",
       "  </tbody>\n",
       "</table>\n",
       "</div>"
      ],
      "text/plain": [
       "  X1 transaction date  X2 house age  X3 distance to the nearest MRT station  \\\n",
       "0          2012-11-30      0.730594                                0.009513   \n",
       "1          2012-11-30      0.445205                                0.043809   \n",
       "2          2013-08-01      0.303653                                0.083315   \n",
       "3          2013-07-02      0.303653                                0.083315   \n",
       "4          2012-10-31      0.114155                                0.056799   \n",
       "\n",
       "   X4 number of convenience stores  X5 location  Y house price of unit area  \n",
       "0                              1.0     0.634810                        37.9  \n",
       "1                              0.9     0.635077                        42.2  \n",
       "2                              0.5     0.660353                        47.3  \n",
       "3                              0.5     0.660353                        54.8  \n",
       "4                              0.5     0.669484                        43.1  "
      ]
     },
     "execution_count": 276,
     "metadata": {},
     "output_type": "execute_result"
    }
   ],
   "source": [
    "columns_to_scale1 = ['X5 location']\n",
    "df_scaled = min_max_scaling(df_scaled.copy(), columns_to_scale1)\n",
    "df_scaled.head()"
   ]
  },
  {
   "cell_type": "markdown",
   "id": "afa3fe21-dcfd-4f9c-844c-95582317f643",
   "metadata": {},
   "source": [
    "Split the dataset into feature variables X."
   ]
  },
  {
   "cell_type": "code",
   "execution_count": 277,
   "id": "d1ad196f-dc87-4af6-be8a-ecbab0123e7e",
   "metadata": {},
   "outputs": [
    {
     "data": {
      "text/html": [
       "<div>\n",
       "<style scoped>\n",
       "    .dataframe tbody tr th:only-of-type {\n",
       "        vertical-align: middle;\n",
       "    }\n",
       "\n",
       "    .dataframe tbody tr th {\n",
       "        vertical-align: top;\n",
       "    }\n",
       "\n",
       "    .dataframe thead th {\n",
       "        text-align: right;\n",
       "    }\n",
       "</style>\n",
       "<table border=\"1\" class=\"dataframe\">\n",
       "  <thead>\n",
       "    <tr style=\"text-align: right;\">\n",
       "      <th></th>\n",
       "      <th>X1 transaction date</th>\n",
       "      <th>X2 house age</th>\n",
       "      <th>X3 distance to the nearest MRT station</th>\n",
       "      <th>X4 number of convenience stores</th>\n",
       "      <th>X5 location</th>\n",
       "    </tr>\n",
       "  </thead>\n",
       "  <tbody>\n",
       "    <tr>\n",
       "      <th>0</th>\n",
       "      <td>2012-11-30</td>\n",
       "      <td>0.730594</td>\n",
       "      <td>0.009513</td>\n",
       "      <td>1.0</td>\n",
       "      <td>0.634810</td>\n",
       "    </tr>\n",
       "    <tr>\n",
       "      <th>1</th>\n",
       "      <td>2012-11-30</td>\n",
       "      <td>0.445205</td>\n",
       "      <td>0.043809</td>\n",
       "      <td>0.9</td>\n",
       "      <td>0.635077</td>\n",
       "    </tr>\n",
       "    <tr>\n",
       "      <th>2</th>\n",
       "      <td>2013-08-01</td>\n",
       "      <td>0.303653</td>\n",
       "      <td>0.083315</td>\n",
       "      <td>0.5</td>\n",
       "      <td>0.660353</td>\n",
       "    </tr>\n",
       "    <tr>\n",
       "      <th>3</th>\n",
       "      <td>2013-07-02</td>\n",
       "      <td>0.303653</td>\n",
       "      <td>0.083315</td>\n",
       "      <td>0.5</td>\n",
       "      <td>0.660353</td>\n",
       "    </tr>\n",
       "    <tr>\n",
       "      <th>4</th>\n",
       "      <td>2012-10-31</td>\n",
       "      <td>0.114155</td>\n",
       "      <td>0.056799</td>\n",
       "      <td>0.5</td>\n",
       "      <td>0.669484</td>\n",
       "    </tr>\n",
       "  </tbody>\n",
       "</table>\n",
       "</div>"
      ],
      "text/plain": [
       "  X1 transaction date  X2 house age  X3 distance to the nearest MRT station  \\\n",
       "0          2012-11-30      0.730594                                0.009513   \n",
       "1          2012-11-30      0.445205                                0.043809   \n",
       "2          2013-08-01      0.303653                                0.083315   \n",
       "3          2013-07-02      0.303653                                0.083315   \n",
       "4          2012-10-31      0.114155                                0.056799   \n",
       "\n",
       "   X4 number of convenience stores  X5 location  \n",
       "0                              1.0     0.634810  \n",
       "1                              0.9     0.635077  \n",
       "2                              0.5     0.660353  \n",
       "3                              0.5     0.660353  \n",
       "4                              0.5     0.669484  "
      ]
     },
     "execution_count": 277,
     "metadata": {},
     "output_type": "execute_result"
    }
   ],
   "source": [
    "X = df_scaled.iloc[:, :-1]  \n",
    "X.head()"
   ]
  },
  {
   "cell_type": "markdown",
   "id": "c311fcd6-9cf7-4050-ba84-8f2d7bbf4fd1",
   "metadata": {},
   "source": [
    "Split the dataset to extract the target variable Y."
   ]
  },
  {
   "cell_type": "code",
   "execution_count": 278,
   "id": "8a9faa16-2556-4b3a-8dbf-88fcf9f9abb6",
   "metadata": {},
   "outputs": [
    {
     "data": {
      "text/plain": [
       "0    37.9\n",
       "1    42.2\n",
       "2    47.3\n",
       "3    54.8\n",
       "4    43.1\n",
       "Name: Y house price of unit area, dtype: float64"
      ]
     },
     "execution_count": 278,
     "metadata": {},
     "output_type": "execute_result"
    }
   ],
   "source": [
    "y = df_scaled.iloc[:, -1]\n",
    "y.head()"
   ]
  },
  {
   "cell_type": "markdown",
   "id": "52131446-8cfa-4fb1-96dd-ad879232961d",
   "metadata": {},
   "source": [
    "### Feature Selection/Engineering:"
   ]
  },
  {
   "cell_type": "markdown",
   "id": "86fc72d7-4cf1-4111-b8da-454d32f07ee2",
   "metadata": {},
   "source": [
    "Combine the two datasets X and Y and add back the X1 transaction date column to create a correlation matrix between the feature variables and between each feature variable and the target variable."
   ]
  },
  {
   "cell_type": "code",
   "execution_count": 279,
   "id": "25dc8983-123e-4287-b0eb-2db3123e6aab",
   "metadata": {},
   "outputs": [
    {
     "data": {
      "text/html": [
       "<div>\n",
       "<style scoped>\n",
       "    .dataframe tbody tr th:only-of-type {\n",
       "        vertical-align: middle;\n",
       "    }\n",
       "\n",
       "    .dataframe tbody tr th {\n",
       "        vertical-align: top;\n",
       "    }\n",
       "\n",
       "    .dataframe thead th {\n",
       "        text-align: right;\n",
       "    }\n",
       "</style>\n",
       "<table border=\"1\" class=\"dataframe\">\n",
       "  <thead>\n",
       "    <tr style=\"text-align: right;\">\n",
       "      <th></th>\n",
       "      <th>X1 transaction date</th>\n",
       "      <th>X2 house age</th>\n",
       "      <th>X3 distance to the nearest MRT station</th>\n",
       "      <th>X4 number of convenience stores</th>\n",
       "      <th>X5 location</th>\n",
       "      <th>Y house price of unit area</th>\n",
       "    </tr>\n",
       "  </thead>\n",
       "  <tbody>\n",
       "    <tr>\n",
       "      <th>0</th>\n",
       "      <td>2012-11-30</td>\n",
       "      <td>0.730594</td>\n",
       "      <td>0.009513</td>\n",
       "      <td>1.0</td>\n",
       "      <td>0.634810</td>\n",
       "      <td>37.9</td>\n",
       "    </tr>\n",
       "    <tr>\n",
       "      <th>1</th>\n",
       "      <td>2012-11-30</td>\n",
       "      <td>0.445205</td>\n",
       "      <td>0.043809</td>\n",
       "      <td>0.9</td>\n",
       "      <td>0.635077</td>\n",
       "      <td>42.2</td>\n",
       "    </tr>\n",
       "    <tr>\n",
       "      <th>2</th>\n",
       "      <td>2013-08-01</td>\n",
       "      <td>0.303653</td>\n",
       "      <td>0.083315</td>\n",
       "      <td>0.5</td>\n",
       "      <td>0.660353</td>\n",
       "      <td>47.3</td>\n",
       "    </tr>\n",
       "    <tr>\n",
       "      <th>3</th>\n",
       "      <td>2013-07-02</td>\n",
       "      <td>0.303653</td>\n",
       "      <td>0.083315</td>\n",
       "      <td>0.5</td>\n",
       "      <td>0.660353</td>\n",
       "      <td>54.8</td>\n",
       "    </tr>\n",
       "    <tr>\n",
       "      <th>4</th>\n",
       "      <td>2012-10-31</td>\n",
       "      <td>0.114155</td>\n",
       "      <td>0.056799</td>\n",
       "      <td>0.5</td>\n",
       "      <td>0.669484</td>\n",
       "      <td>43.1</td>\n",
       "    </tr>\n",
       "  </tbody>\n",
       "</table>\n",
       "</div>"
      ],
      "text/plain": [
       "  X1 transaction date  X2 house age  X3 distance to the nearest MRT station  \\\n",
       "0          2012-11-30      0.730594                                0.009513   \n",
       "1          2012-11-30      0.445205                                0.043809   \n",
       "2          2013-08-01      0.303653                                0.083315   \n",
       "3          2013-07-02      0.303653                                0.083315   \n",
       "4          2012-10-31      0.114155                                0.056799   \n",
       "\n",
       "   X4 number of convenience stores  X5 location  Y house price of unit area  \n",
       "0                              1.0     0.634810                        37.9  \n",
       "1                              0.9     0.635077                        42.2  \n",
       "2                              0.5     0.660353                        47.3  \n",
       "3                              0.5     0.660353                        54.8  \n",
       "4                              0.5     0.669484                        43.1  "
      ]
     },
     "execution_count": 279,
     "metadata": {},
     "output_type": "execute_result"
    }
   ],
   "source": [
    "Z = X.join(y)\n",
    "Z['X1 transaction date'] = df_scaled['X1 transaction date']\n",
    "\n",
    "# List of columns in the new order\n",
    "new_column_order = ['X1 transaction date', 'X2 house age', 'X3 distance to the nearest MRT station', 'X4 number of convenience stores', 'X5 location', 'Y house price of unit area']\n",
    "\n",
    "# Reorder the columns in the DataFrame\n",
    "Z = Z.reindex(columns=new_column_order)\n",
    "Z.head()"
   ]
  },
  {
   "cell_type": "markdown",
   "id": "abad1abc-57a1-4b2b-95e1-a68cd94847e0",
   "metadata": {},
   "source": [
    "Initialize the correlation matrix and print it to the screen."
   ]
  },
  {
   "cell_type": "code",
   "execution_count": 280,
   "id": "d4d51d1b-2c7d-4299-b887-7991ca84da0c",
   "metadata": {},
   "outputs": [
    {
     "data": {
      "text/html": [
       "<div>\n",
       "<style scoped>\n",
       "    .dataframe tbody tr th:only-of-type {\n",
       "        vertical-align: middle;\n",
       "    }\n",
       "\n",
       "    .dataframe tbody tr th {\n",
       "        vertical-align: top;\n",
       "    }\n",
       "\n",
       "    .dataframe thead th {\n",
       "        text-align: right;\n",
       "    }\n",
       "</style>\n",
       "<table border=\"1\" class=\"dataframe\">\n",
       "  <thead>\n",
       "    <tr style=\"text-align: right;\">\n",
       "      <th></th>\n",
       "      <th>X1 transaction date</th>\n",
       "      <th>X2 house age</th>\n",
       "      <th>X3 distance to the nearest MRT station</th>\n",
       "      <th>X4 number of convenience stores</th>\n",
       "      <th>X5 location</th>\n",
       "      <th>Y house price of unit area</th>\n",
       "    </tr>\n",
       "  </thead>\n",
       "  <tbody>\n",
       "    <tr>\n",
       "      <th>X1 transaction date</th>\n",
       "      <td>1.000000</td>\n",
       "      <td>0.010092</td>\n",
       "      <td>0.065624</td>\n",
       "      <td>0.002209</td>\n",
       "      <td>-0.055071</td>\n",
       "      <td>0.067027</td>\n",
       "    </tr>\n",
       "    <tr>\n",
       "      <th>X2 house age</th>\n",
       "      <td>0.010092</td>\n",
       "      <td>1.000000</td>\n",
       "      <td>0.030167</td>\n",
       "      <td>0.035385</td>\n",
       "      <td>-0.070640</td>\n",
       "      <td>-0.242852</td>\n",
       "    </tr>\n",
       "    <tr>\n",
       "      <th>X3 distance to the nearest MRT station</th>\n",
       "      <td>0.065624</td>\n",
       "      <td>0.030167</td>\n",
       "      <td>1.000000</td>\n",
       "      <td>-0.604710</td>\n",
       "      <td>-0.721812</td>\n",
       "      <td>-0.701349</td>\n",
       "    </tr>\n",
       "    <tr>\n",
       "      <th>X4 number of convenience stores</th>\n",
       "      <td>0.002209</td>\n",
       "      <td>0.035385</td>\n",
       "      <td>-0.604710</td>\n",
       "      <td>1.000000</td>\n",
       "      <td>0.371620</td>\n",
       "      <td>0.605853</td>\n",
       "    </tr>\n",
       "    <tr>\n",
       "      <th>X5 location</th>\n",
       "      <td>-0.055071</td>\n",
       "      <td>-0.070640</td>\n",
       "      <td>-0.721812</td>\n",
       "      <td>0.371620</td>\n",
       "      <td>1.000000</td>\n",
       "      <td>0.454871</td>\n",
       "    </tr>\n",
       "    <tr>\n",
       "      <th>Y house price of unit area</th>\n",
       "      <td>0.067027</td>\n",
       "      <td>-0.242852</td>\n",
       "      <td>-0.701349</td>\n",
       "      <td>0.605853</td>\n",
       "      <td>0.454871</td>\n",
       "      <td>1.000000</td>\n",
       "    </tr>\n",
       "  </tbody>\n",
       "</table>\n",
       "</div>"
      ],
      "text/plain": [
       "                                        X1 transaction date  X2 house age  \\\n",
       "X1 transaction date                                1.000000      0.010092   \n",
       "X2 house age                                       0.010092      1.000000   \n",
       "X3 distance to the nearest MRT station             0.065624      0.030167   \n",
       "X4 number of convenience stores                    0.002209      0.035385   \n",
       "X5 location                                       -0.055071     -0.070640   \n",
       "Y house price of unit area                         0.067027     -0.242852   \n",
       "\n",
       "                                        X3 distance to the nearest MRT station  \\\n",
       "X1 transaction date                                                   0.065624   \n",
       "X2 house age                                                          0.030167   \n",
       "X3 distance to the nearest MRT station                                1.000000   \n",
       "X4 number of convenience stores                                      -0.604710   \n",
       "X5 location                                                          -0.721812   \n",
       "Y house price of unit area                                           -0.701349   \n",
       "\n",
       "                                        X4 number of convenience stores  \\\n",
       "X1 transaction date                                            0.002209   \n",
       "X2 house age                                                   0.035385   \n",
       "X3 distance to the nearest MRT station                        -0.604710   \n",
       "X4 number of convenience stores                                1.000000   \n",
       "X5 location                                                    0.371620   \n",
       "Y house price of unit area                                     0.605853   \n",
       "\n",
       "                                        X5 location  \\\n",
       "X1 transaction date                       -0.055071   \n",
       "X2 house age                              -0.070640   \n",
       "X3 distance to the nearest MRT station    -0.721812   \n",
       "X4 number of convenience stores            0.371620   \n",
       "X5 location                                1.000000   \n",
       "Y house price of unit area                 0.454871   \n",
       "\n",
       "                                        Y house price of unit area  \n",
       "X1 transaction date                                       0.067027  \n",
       "X2 house age                                             -0.242852  \n",
       "X3 distance to the nearest MRT station                   -0.701349  \n",
       "X4 number of convenience stores                           0.605853  \n",
       "X5 location                                               0.454871  \n",
       "Y house price of unit area                                1.000000  "
      ]
     },
     "execution_count": 280,
     "metadata": {},
     "output_type": "execute_result"
    }
   ],
   "source": [
    "correlation_matrix = Z.corr()\n",
    "correlation_matrix"
   ]
  },
  {
   "cell_type": "markdown",
   "id": "b0d3a045-0751-43c7-bb3f-306a4890fa38",
   "metadata": {},
   "source": [
    "Draw a heatmap of the correlation matrix to visualize the relationships between them more clearly."
   ]
  },
  {
   "cell_type": "code",
   "execution_count": 281,
   "id": "144e807e-db3d-439d-9c5d-89401e1264c3",
   "metadata": {},
   "outputs": [
    {
     "data": {
      "image/png": "[encoded data removed]",
      "text/plain": [
       "<Figure size 800x600 with 2 Axes>"
      ]
     },
     "metadata": {},
     "output_type": "display_data"
    }
   ],
   "source": [
    "import seaborn as sns\n",
    "import matplotlib.pyplot as plt\n",
    "\n",
    "plt.figure(figsize=(8, 6))\n",
    "sns.heatmap(correlation_matrix, cmap = 'Spectral',annot=True,linewidths=0.5)\n",
    "plt.title('Correlation Matrix')\n",
    "plt.show()"
   ]
  },
  {
   "cell_type": "raw",
   "id": "7e70fb4f-7f48-4c43-8132-3fe757559cb2",
   "metadata": {},
   "source": [
    "Based on the Correlation Matrix, we can see that the correlation between X4 number of convenience stores and Y house price of unit area is the strongest in direct proportion, The relationship between X3 distance to the nearest MRT station and Y house price of unit area is strongest in inverse proportion, meaning that the closer the distance, the higher the house price. Next is X5 location. Finally, X1 transaction date and X2 house age seem to have little correlation with Y house price of unit area.\n",
    "The correlation value between the X5 location variable and the X3 distance to the nearest MRT station is relatively high with a negative correlation, while with X4 number of convenience stores, it is positively correlated."
   ]
  },
  {
   "cell_type": "raw",
   "id": "8add5c5c-7b89-4292-9383-164beb5146d5",
   "metadata": {},
   "source": [
    "According to the table, I will analyze the feature variables X3, X4, and X5 with the target variable Y because I believe their correlation is worth analyzing."
   ]
  },
  {
   "cell_type": "markdown",
   "id": "174415ea-395f-49c6-af54-16ffbaae03fa",
   "metadata": {},
   "source": [
    "## Model Training and Model Evaluation:"
   ]
  },
  {
   "cell_type": "code",
   "execution_count": 282,
   "id": "aee45367-871e-4b04-845e-1531c02d8d0e",
   "metadata": {},
   "outputs": [],
   "source": [
    "# mean \n",
    "def get_mean(arr):\n",
    "    return np.sum(arr)/len(arr)\n",
    "\n",
    "# variance\n",
    "def get_variance(arr, mean):\n",
    "    return np.sum((arr-mean)**2)\n",
    "\n",
    "# covariance\n",
    "def get_covariance(arr_x, mean_x, arr_y, mean_y):\n",
    "    final_arr = (arr_x - mean_x)*(arr_y - mean_y)\n",
    "    return np.sum(final_arr)"
   ]
  },
  {
   "cell_type": "code",
   "execution_count": 283,
   "id": "79839b07-42fd-4ed9-b3fd-efb11d2a1c0b",
   "metadata": {},
   "outputs": [],
   "source": [
    "# Coefficients \n",
    "# m = cov(x, y) / var(x)\n",
    "# b = y - m*x\n",
    "def get_coefficients(x, y):\n",
    "    x_mean = get_mean(x)\n",
    "    y_mean = get_mean(y)\n",
    "    m = get_covariance(x, x_mean, y, y_mean)/get_variance(x, x_mean)\n",
    "    b = y_mean - x_mean*m\n",
    "    return m, b"
   ]
  },
  {
   "cell_type": "markdown",
   "id": "4e873486-c23c-4beb-8572-5a8effa6295c",
   "metadata": {},
   "source": [
    "The functions get_mean, get_variance, get_covariance, and get_coefficients are created to use during the model training process and for making predictions."
   ]
  },
  {
   "cell_type": "code",
   "execution_count": 284,
   "id": "2f2a24b9-2cc3-48f2-8d64-59c2be613543",
   "metadata": {},
   "outputs": [],
   "source": [
    "# Linear Regression \n",
    "# Train and Test\n",
    "def linear_regression(x_train, y_train, x_test, y_test):\n",
    "    prediction = []\n",
    "    m, b = get_coefficients(x_train, y_train)\n",
    "    for x in x_test:\n",
    "        y = m*x + b\n",
    "        prediction.append(y)\n",
    "    return prediction"
   ]
  },
  {
   "cell_type": "markdown",
   "id": "d12c8c94-b325-4e68-afe5-1111a8a880fc",
   "metadata": {},
   "source": [
    "Train the model and make predictions."
   ]
  },
  {
   "cell_type": "markdown",
   "id": "cb435696-5536-42b5-b9b4-93991392ef9e",
   "metadata": {},
   "source": [
    "First, I perform linear regression with the feature variable ***X3 distance to the nearest MRT station*** and the target variable Y."
   ]
  },
  {
   "cell_type": "markdown",
   "id": "b10721fe-504f-4501-ac99-00aa3eefc378",
   "metadata": {},
   "source": [
    "Get the values of the variable X3 and Y to prepare for model training."
   ]
  },
  {
   "cell_type": "code",
   "execution_count": 130,
   "id": "e7b55ace-4550-4614-9f70-f01769165c13",
   "metadata": {},
   "outputs": [
    {
     "name": "stdout",
     "output_type": "stream",
     "text": [
      "(411,)\n",
      "(411,)\n"
     ]
    }
   ],
   "source": [
    "X3 = df_scaled['X3 distance to the nearest MRT station'].values\n",
    "y = df_scaled['Y house price of unit area'].values\n",
    "\n",
    "print(X3.shape)\n",
    "print(y.shape)"
   ]
  },
  {
   "cell_type": "markdown",
   "id": "98a70ec9-b9a6-4e78-9982-92b924df6efc",
   "metadata": {},
   "source": [
    "Use the scikit-learn library to split X3 and Y into training and testing sets."
   ]
  },
  {
   "cell_type": "code",
   "execution_count": 131,
   "id": "7ba68274-b403-4fc6-905a-aeacce1a7f5f",
   "metadata": {},
   "outputs": [],
   "source": [
    "import numpy as np\n",
    "from sklearn.model_selection import train_test_split\n",
    "X3_train, X3_test, y_train, y_test = train_test_split(X3, y, test_size=0.2)"
   ]
  },
  {
   "cell_type": "markdown",
   "id": "acac0019-794b-4876-9689-bc31a4f73cbd",
   "metadata": {},
   "source": [
    "Transform the data to fit the machine learning model: convert X3_train from a one-dimensional array to a two-dimensional array with one column and the number of rows determined automatically to fit the size of the original array."
   ]
  },
  {
   "cell_type": "code",
   "execution_count": 133,
   "id": "ea3a2254-bea2-4d88-9cca-31bec3fd872a",
   "metadata": {},
   "outputs": [],
   "source": [
    "X3_train = np.array(X3_train).reshape(-1, 1)\n",
    "X3_test = np.array(X3_test).reshape(-1, 1)\n",
    "y_train = np.array(y_train).reshape(-1, 1)\n",
    "y_test = np.array(y_test).reshape(-1, 1)"
   ]
  },
  {
   "cell_type": "markdown",
   "id": "69f70913-c795-49a2-8950-593aa476f5b4",
   "metadata": {},
   "source": [
    "Perform linear regression model with X3 and make predictions for the test set."
   ]
  },
  {
   "cell_type": "code",
   "execution_count": 134,
   "id": "494ecc51-bd6d-4e37-9c31-049a7b745ef0",
   "metadata": {},
   "outputs": [],
   "source": [
    "predictionX3 = linear_regression(X3_train, y_train, X3_test, y_test)"
   ]
  },
  {
   "cell_type": "code",
   "execution_count": 135,
   "id": "c064becd-2386-4865-a992-a61c89642803",
   "metadata": {},
   "outputs": [
    {
     "data": {
      "image/png": "[encoded data removed]",
      "text/plain": [
       "<Figure size 1000x600 with 1 Axes>"
      ]
     },
     "metadata": {},
     "output_type": "display_data"
    }
   ],
   "source": [
    "plt.figure(figsize=(10, 6))\n",
    "\n",
    "# Plot a scatter plot with blue dots (actual).\n",
    "plt.scatter(X3_test, y_test, color='blue', label='Actual', edgecolor='black')\n",
    "\n",
    "# Plot a red line (prediction).\n",
    "plt.plot(X3_test, predictionX3, color='red', label='Prediction (Linear regression)')\n",
    "\n",
    "# Label the x-axis and y-axis.\n",
    "plt.xlabel('X3_test distance to the nearest MRT station')\n",
    "plt.ylabel('y_test house price of unit area')\n",
    "\n",
    "# Set the title for the chart.\n",
    "plt.title(\"Regression Plot\")\n",
    "plt.legend()\n",
    "plt.show()\n"
   ]
  },
  {
   "cell_type": "markdown",
   "id": "f89737b9-182a-4ef4-aa89-4bb7bf7f8fb5",
   "metadata": {},
   "source": [
    "Looking at the chart, we can see the distribution of X3 points against house prices and the regression line. The regression line has a slope less than 0, indicating a decreasing trend. This suggests that as a house gets farther away from the nearest MRT station, its value tends to decrease. This observation aligns with common sense."
   ]
  },
  {
   "cell_type": "markdown",
   "id": "36d10411-555d-4e2d-8e63-9f67f967130b",
   "metadata": {},
   "source": [
    "Calculate the metrics to evaluate the effectiveness of the model. Here, I have used the built-in functions from the sklearn library to calculate them.\n",
    "- ***R-squared*** measures the proportion of the variance in the dependent variable that the model can explain compared to the total variance of the dependent variable.\n",
    "- ***Mean Squared Error (MSE)*** measures the average of the squared differences between the predicted values of the model and the actual values of the data.\n",
    "- ***Mean Absolute Error (MAE)*** measures the average of the absolute differences between the predicted values of the model and the actual values of the data."
   ]
  },
  {
   "cell_type": "code",
   "execution_count": 136,
   "id": "41dde73e-17de-4d6b-886e-029ba23f16a7",
   "metadata": {},
   "outputs": [
    {
     "name": "stdout",
     "output_type": "stream",
     "text": [
      "The R2 score of the model is:  0.5780905355378649\n",
      "The MSE score of the model is:  58.880828670131876\n",
      "The MAE score of the model is:  6.225961126303032\n"
     ]
    }
   ],
   "source": [
    "from sklearn.metrics import r2_score, mean_squared_error, mean_absolute_error\n",
    "\n",
    "r2 = r2_score(y_test, predictionX3)\n",
    "mse = mean_squared_error(y_test, predictionX3)\n",
    "mae = mean_absolute_error(y_test, predictionX3)\n",
    "print(\"The R2 score of the model is: \", r2)\n",
    "print(\"The MSE score of the model is: \", mse)\n",
    "print(\"The MAE score of the model is: \", mae)"
   ]
  },
  {
   "cell_type": "markdown",
   "id": "4221ad6f-1784-4148-be0a-a3e0ac8435e8",
   "metadata": {},
   "source": [
    "\n",
    "- ***R-squared (R2 score)***: The R2 value is 0.578, meaning that the model can explain about 57.8% of the variance in the data, indicating its ability to predict a large portion of the variability of the dependent variable. Although not a high R2 value, it shows that the model performs better than just using the mean value of the dependent variable.\n",
    "\n",
    "- ***Mean Squared Error (MSE)***: The MSE value is about 58.8, indicating that the average squared difference between the model's predictions and the actual values is about 0.023.\n",
    "\n",
    "- ***Mean Absolute Error (MAE)***: The MAE value is about 6.225, indicating that the average absolute difference between the model's predictions and the actual values is about 0.118."
   ]
  },
  {
   "cell_type": "markdown",
   "id": "9aab2278-b3fe-474d-953d-e8353d77e88c",
   "metadata": {},
   "source": [
    "I've done the same thing with ***X4 number of convenience stores*** and ***X5 location*** as I did with ***X3 distance to the nearest MRT station***, so I won't explain much about the code part. Please pay attention to the charts and model evaluation metrics"
   ]
  },
  {
   "cell_type": "code",
   "execution_count": 290,
   "id": "9062f8f7-1c68-4d4f-9781-0d79c4b499d6",
   "metadata": {},
   "outputs": [
    {
     "name": "stdout",
     "output_type": "stream",
     "text": [
      "(411,)\n",
      "(411,)\n"
     ]
    }
   ],
   "source": [
    "X4 = df_scaled['X4 number of convenience stores'].values\n",
    "y = df_scaled['Y house price of unit area'].values\n",
    "\n",
    "print(X4.shape)\n",
    "print(y.shape)"
   ]
  },
  {
   "cell_type": "code",
   "execution_count": 295,
   "id": "387f866b-700d-40cb-be56-f73581a570be",
   "metadata": {},
   "outputs": [],
   "source": [
    "import numpy as np\n",
    "from sklearn.model_selection import train_test_split\n",
    "X4_train, X4_test, y_train, y_test = train_test_split(X4, y, test_size=0.2)\n",
    "\n",
    "X4_train = np.array(X4_train).reshape(-1, 1)\n",
    "X4_test = np.array(X4_test).reshape(-1, 1)\n",
    "y_train = np.array(y_train).reshape(-1, 1)\n",
    "y_test = np.array(y_test).reshape(-1, 1)"
   ]
  },
  {
   "cell_type": "code",
   "execution_count": 296,
   "id": "2e754b00-7a01-4870-9f73-0aa0d766ae1c",
   "metadata": {},
   "outputs": [],
   "source": [
    "predictionX4 = linear_regression(X4_train, y_train, X4_test, y_test)"
   ]
  },
  {
   "cell_type": "code",
   "execution_count": 297,
   "id": "968e5b43-be44-46ce-87dc-e8e8d822ebfc",
   "metadata": {},
   "outputs": [
    {
     "data": {
      "image/png": "[encoded data removed]",
      "text/plain": [
       "<Figure size 1000x600 with 1 Axes>"
      ]
     },
     "metadata": {},
     "output_type": "display_data"
    }
   ],
   "source": [
    "\n",
    "plt.figure(figsize=(10, 6))\n",
    "\n",
    "plt.scatter(X4_test, y_test, color='blue', label='Actual', edgecolor='black')\n",
    "\n",
    "plt.plot(X4_test, predictionX4, color='red', label='Prediction (Linear regression)')\n",
    "\n",
    "plt.xlabel('X4 number of convenience stores')\n",
    "plt.ylabel('Y house price of unit area')\n",
    "\n",
    "plt.title(\"Regression Plot\")\n",
    "plt.legend()\n",
    "plt.show()\n"
   ]
  },
  {
   "cell_type": "markdown",
   "id": "929cc90b-f295-487c-a7f2-f33e6919f319",
   "metadata": {},
   "source": [
    "From the chart above, we can see that if a house is surrounded by more convenience stores and amenities, its price tends to be higher compared to areas with fewer amenities."
   ]
  },
  {
   "cell_type": "code",
   "execution_count": 298,
   "id": "e3422b64-33a4-46c2-8a46-a760c55b373b",
   "metadata": {},
   "outputs": [
    {
     "name": "stdout",
     "output_type": "stream",
     "text": [
      "The R2 score of the model is:  0.5058900440360226\n",
      "The MSE score of the model is:  80.62312609013767\n",
      "The MAE score of the model is:  7.081864862123689\n"
     ]
    }
   ],
   "source": [
    "r2 = r2_score(y_test, predictionX4)\n",
    "mse = mean_squared_error(y_test, predictionX4)\n",
    "mae = mean_absolute_error(y_test, predictionX4)\n",
    "print(\"The R2 score of the model is: \", r2)\n",
    "print(\"The MSE score of the model is: \", mse)\n",
    "print(\"The MAE score of the model is: \", mae)"
   ]
  },
  {
   "cell_type": "markdown",
   "id": "89e8d943-abdf-4eb3-a191-55e2e465c177",
   "metadata": {},
   "source": [
    "- ***R2 score:*** 0.506, indicating that the model can explain approximately 50.6% of the variance in the data. Although not high, it shows that the model performs better than just using the mean value of the dependent variable.\n",
    "\n",
    "- ***Mean Squared Error (MSE):*** 80.6, indicating that the average squared difference between the model's predictions and the actual values is about 80.6. This value is low, meaning that the errors between the predictions and the actual values are small.\n",
    "\n",
    "- ***Mean Absolute Error (MAE):*** 7, indicating that the average absolute difference between the model's predictions and the actual values is about 7. This value is also relatively low, indicating that the model makes accurate predictions."
   ]
  },
  {
   "cell_type": "markdown",
   "id": "17b487d0-1f7c-41fa-b7d3-b9bcc7992b95",
   "metadata": {},
   "source": [
    "For ***X5 location*** and the target variable Y:"
   ]
  },
  {
   "cell_type": "code",
   "execution_count": 299,
   "id": "63868591-1324-4268-9b11-57f337ec7f4c",
   "metadata": {
    "scrolled": true
   },
   "outputs": [
    {
     "name": "stdout",
     "output_type": "stream",
     "text": [
      "(411,)\n",
      "(411,)\n"
     ]
    }
   ],
   "source": [
    "X5 = df_scaled['X5 location'].values\n",
    "y = df_scaled['Y house price of unit area'].values\n",
    "\n",
    "print(X5.shape)\n",
    "print(y.shape)"
   ]
  },
  {
   "cell_type": "code",
   "execution_count": 300,
   "id": "091e43d2-90e8-48a3-9386-f6ea8487a44a",
   "metadata": {},
   "outputs": [],
   "source": [
    "import numpy as np\n",
    "from sklearn.model_selection import train_test_split\n",
    "X5_train, X5_test, y_train, y_test = train_test_split(X5, y, test_size=0.2)\n",
    "\n",
    "X5_train = np.array(X5_train).reshape(-1, 1)\n",
    "X5_test = np.array(X5_test).reshape(-1, 1)\n",
    "y_train = np.array(y_train).reshape(-1, 1)\n",
    "y_test = np.array(y_test).reshape(-1, 1)"
   ]
  },
  {
   "cell_type": "code",
   "execution_count": 301,
   "id": "e7d87cf9-151e-4a21-b31f-5d416b9c7ee7",
   "metadata": {},
   "outputs": [],
   "source": [
    "predictionX5 = linear_regression(X5_train, y_train, X5_test, y_test)"
   ]
  },
  {
   "cell_type": "code",
   "execution_count": 302,
   "id": "e777e5e1-70c2-4594-8344-9f06aeeb93c3",
   "metadata": {},
   "outputs": [
    {
     "data": {
      "image/png": "[encoded data removed]",
      "text/plain": [
       "<Figure size 1000x600 with 1 Axes>"
      ]
     },
     "metadata": {},
     "output_type": "display_data"
    }
   ],
   "source": [
    "plt.figure(figsize=(10, 6))\n",
    "\n",
    "plt.scatter(X5_test, y_test, color='blue', label='Actual', edgecolor='black')\n",
    "\n",
    "plt.plot(X5_test, predictionX5, color='red', label='Prediction (Linear regression)')\n",
    "\n",
    "plt.xlabel('X5 location')\n",
    "plt.ylabel('Y house price of unit area')\n",
    "\n",
    "plt.title(\"Regression Plot\")\n",
    "plt.legend()\n",
    "plt.show()\n"
   ]
  },
  {
   "cell_type": "markdown",
   "id": "7483149b-8753-46da-8453-d8898ec2c6ec",
   "metadata": {},
   "source": [
    "Based on the graph, we can see that as the coordinate values increase, the house prices also tend to increase. This is understandable because when we look at the correlation matrix, we can see that X5 location has a negative correlation with the distance to the nearest MRT station and a positive correlation with the number of convenience stores. As this value increases, it implies that the distance to the nearest MRT station is shorter and the number of convenience stores is higher. Increasing location values may also indicate moving deeper into the city center."
   ]
  },
  {
   "cell_type": "code",
   "execution_count": 303,
   "id": "7ed86499-0dee-42ed-818f-7cb624fb3c1c",
   "metadata": {},
   "outputs": [
    {
     "name": "stdout",
     "output_type": "stream",
     "text": [
      "The R2 score of the model is:  0.34025991594666705\n",
      "The MSE score of the model is:  98.59546546176176\n",
      "The MAE score of the model is:  7.599725025667506\n"
     ]
    }
   ],
   "source": [
    "r2 = r2_score(y_test, predictionX5)\n",
    "mse = mean_squared_error(y_test, predictionX5)\n",
    "mae = mean_absolute_error(y_test, predictionX5)\n",
    "print(\"The R2 score of the model is: \", r2)\n",
    "print(\"The MSE score of the model is: \", mse)\n",
    "print(\"The MAE score of the model is: \", mae)"
   ]
  },
  {
   "cell_type": "markdown",
   "id": "a7113ffb-9a49-4148-973f-4fad2311b9a2",
   "metadata": {},
   "source": [
    "- ***R2 score:*** 0.34, indicating that the model can explain approximately 34% of the variance in the data. This means that the model cannot explain a large portion of the variance in the data and may predict worse than just using the mean value of the dependent variable.\n",
    "\n",
    "- ***Mean Squared Error (MSE):*** 98.5, indicating that the average squared difference between the model's predictions and the actual values is about 98.5. This value is not too high but also not too low, suggesting that the model may struggle to accurately predict the data.\n",
    "\n",
    "- ***Mean Absolute Error (MAE):*** 7.59, indicating that the average absolute difference between the model's predictions and the actual values is about 7.59. This value is also not too high but not too low, suggesting that the model may have difficulty predicting some specific samples."
   ]
  },
  {
   "cell_type": "raw",
   "id": "bcdc77cf-e8bb-4a2f-9055-7c267829a5a4",
   "metadata": {},
   "source": [
    "Next, I will perform regression models for the feature variables except for X1 with my target variable Y"
   ]
  },
  {
   "cell_type": "code",
   "execution_count": 307,
   "id": "e6649d74-c419-4f54-8634-1fa3309ad5db",
   "metadata": {},
   "outputs": [
    {
     "name": "stdout",
     "output_type": "stream",
     "text": [
      "(411, 4)\n",
      "(411,)\n"
     ]
    }
   ],
   "source": [
    "X2345 = Z.drop(columns = ['X1 transaction date', 'Y house price of unit area'])\n",
    "y = Z['Y house price of unit area']\n",
    "\n",
    "print(X2345.shape)\n",
    "print(y.shape)"
   ]
  },
  {
   "cell_type": "code",
   "execution_count": 308,
   "id": "870a6fac-f296-46fd-a490-fba5d26b4fc1",
   "metadata": {},
   "outputs": [],
   "source": [
    "from sklearn.linear_model import LinearRegression, Lasso\n",
    "from sklearn.model_selection import train_test_split\n",
    "from sklearn.metrics import r2_score, mean_squared_error\n",
    "\n",
    "X2345_train, X2345_test, y_train, y_test = train_test_split(X2345,y,test_size=0.2,random_state=42)"
   ]
  },
  {
   "cell_type": "code",
   "execution_count": 309,
   "id": "fb9163b1-f80d-4598-a6be-157acfa1281f",
   "metadata": {},
   "outputs": [],
   "source": [
    "linear = LinearRegression()\n",
    "linear.fit(X2345_train,y_train)\n",
    "pred_test = linear.predict(X2345_test)"
   ]
  },
  {
   "cell_type": "code",
   "execution_count": 310,
   "id": "6c115d08-cc9f-4e29-bee3-1ef334d28bbb",
   "metadata": {},
   "outputs": [
    {
     "name": "stdout",
     "output_type": "stream",
     "text": [
      "Mean square error is  81.69046031144694\n",
      "R2 score is  0.41187594467136646\n"
     ]
    }
   ],
   "source": [
    "mse = mean_squared_error(y_test, pred_test)\n",
    "r2 = r2_score(y_test, pred_test)\n",
    "print('Mean square error is ',mse)\n",
    "print('R2 score is ',r2)"
   ]
  },
  {
   "cell_type": "markdown",
   "id": "0d3aac57-287b-4e3c-ab88-a5f001aa6d1b",
   "metadata": {},
   "source": [
    "- The mean squared error value of 81.69 is generally not too high.\n",
    "- The R2 score of 0.4118 indicates that the model can only explain about 41.18% of the variance in the dependent variable, while the rest is the variance not explained by the model."
   ]
  },
  {
   "cell_type": "raw",
   "id": "99b21266-d7c5-4f16-b896-cc95a629c4ef",
   "metadata": {},
   "source": [
    "Below, I will represent the actual prices and the predicted prices that the model has generated."
   ]
  },
  {
   "cell_type": "code",
   "execution_count": 311,
   "id": "016c69d9-2400-4f33-8fbd-11aec8268959",
   "metadata": {},
   "outputs": [
    {
     "data": {
      "image/png": "[encoded data removed]",
      "text/plain": [
       "<Figure size 640x480 with 1 Axes>"
      ]
     },
     "metadata": {},
     "output_type": "display_data"
    }
   ],
   "source": [
    "plt.scatter(y_test, pred_test, color='blue', label='Actual')\n",
    "\n",
    "plt.plot(y_test, y_test, color='red', label='Regression line')\n",
    "\n",
    "plt.xlabel('Actual Y')\n",
    "plt.ylabel('Predicted Y')\n",
    "plt.title('Actual vs Predicted Y')\n",
    "plt.legend()\n",
    "\n",
    "plt.show()"
   ]
  },
  {
   "cell_type": "markdown",
   "id": "1ab9a833-57f0-4716-8b8f-15009b9278e9",
   "metadata": {},
   "source": [
    "In general, the predictions are quite good as many points are very close to the actual values. However, there are some points that are significantly different from the actual values."
   ]
  },
  {
   "cell_type": "raw",
   "id": "22abb4b4-477b-4fd1-bd61-882b7a0a3776",
   "metadata": {},
   "source": [
    "Using Lasso regression on the same dataset, I will see if it performs better than linear regression."
   ]
  },
  {
   "cell_type": "code",
   "execution_count": 312,
   "id": "5fdb5855-1dd3-452d-803f-887c1ebc4aef",
   "metadata": {},
   "outputs": [
    {
     "name": "stdout",
     "output_type": "stream",
     "text": [
      "R2 score is  0.3332936886335287\n"
     ]
    }
   ],
   "source": [
    "from sklearn.linear_model import Lasso\n",
    "\n",
    "lasso = Lasso()\n",
    "lasso.fit(X2345_train,y_train)\n",
    "\n",
    "pred_test_lasso = lasso.predict(X2345_test)\n",
    "r2 = r2_score(y_test, pred_test_lasso)\n",
    "\n",
    "print('R2 score is ',r2)"
   ]
  },
  {
   "cell_type": "markdown",
   "id": "a8be1687-de97-4ec3-b4c6-88c97835ee47",
   "metadata": {},
   "source": [
    "It gives a lower R2 score compared to linear regression."
   ]
  },
  {
   "cell_type": "code",
   "execution_count": 313,
   "id": "4af006db-18f2-497c-bc45-ddbd082938a6",
   "metadata": {},
   "outputs": [
    {
     "data": {
      "image/png": "[encoded data removed]",
      "text/plain": [
       "<Figure size 640x480 with 1 Axes>"
      ]
     },
     "metadata": {},
     "output_type": "display_data"
    }
   ],
   "source": [
    "\n",
    "plt.scatter(y_test, pred_test_lasso, color='blue', label='Actual')\n",
    "plt.plot(y_test, y_test,color = 'red',label= 'Regression line')\n",
    "\n",
    "plt.xlabel('Actual Y')\n",
    "plt.ylabel('Predicted Y')\n",
    "plt.title('Actual vs Predicted Y')\n",
    "\n",
    "plt.legend()\n",
    "plt.show()"
   ]
  },
  {
   "cell_type": "raw",
   "id": "cb276f42-a89b-4f96-866b-73733b2baf77",
   "metadata": {},
   "source": [
    "The predicted values seem to deviate more compared to those above."
   ]
  },
  {
   "cell_type": "markdown",
   "id": "dbe5ecf1-6499-4303-a407-96a304f07741",
   "metadata": {},
   "source": [
    "### Hyperparameter Tuning"
   ]
  },
  {
   "cell_type": "code",
   "execution_count": 314,
   "id": "8a8ba4c0-48f1-4254-8e5e-b94b7461521e",
   "metadata": {},
   "outputs": [
    {
     "data": {
      "text/plain": [
       "{'alpha': 1.0,\n",
       " 'copy_X': True,\n",
       " 'fit_intercept': True,\n",
       " 'max_iter': 1000,\n",
       " 'positive': False,\n",
       " 'precompute': False,\n",
       " 'random_state': None,\n",
       " 'selection': 'cyclic',\n",
       " 'tol': 0.0001,\n",
       " 'warm_start': False}"
      ]
     },
     "execution_count": 314,
     "metadata": {},
     "output_type": "execute_result"
    }
   ],
   "source": [
    "#Retrieve the parameters of the Lasso regression performed.\n",
    "lasso.get_params()"
   ]
  },
  {
   "cell_type": "markdown",
   "id": "92708fb3-6cf5-400d-842d-a5ff808f4d5b",
   "metadata": {},
   "source": [
    "\n",
    "I decide to try improving the above Lasso model by adjusting some of its parameters."
   ]
  },
  {
   "cell_type": "code",
   "execution_count": 315,
   "id": "ed363628-2a77-4108-9625-cb20343e4058",
   "metadata": {},
   "outputs": [
    {
     "data": {
      "text/html": [
       "<style>#sk-container-id-2 {color: black;background-color: white;}#sk-container-id-2 pre{padding: 0;}#sk-container-id-2 div.sk-toggleable {background-color: white;}#sk-container-id-2 label.sk-toggleable__label {cursor: pointer;display: block;width: 100%;margin-bottom: 0;padding: 0.3em;box-sizing: border-box;text-align: center;}#sk-container-id-2 label.sk-toggleable__label-arrow:before {content: \"▸\";float: left;margin-right: 0.25em;color: #696969;}#sk-container-id-2 label.sk-toggleable__label-arrow:hover:before {color: black;}#sk-container-id-2 div.sk-estimator:hover label.sk-toggleable__label-arrow:before {color: black;}#sk-container-id-2 div.sk-toggleable__content {max-height: 0;max-width: 0;overflow: hidden;text-align: left;background-color: #f0f8ff;}#sk-container-id-2 div.sk-toggleable__content pre {margin: 0.2em;color: black;border-radius: 0.25em;background-color: #f0f8ff;}#sk-container-id-2 input.sk-toggleable__control:checked~div.sk-toggleable__content {max-height: 200px;max-width: 100%;overflow: auto;}#sk-container-id-2 input.sk-toggleable__control:checked~label.sk-toggleable__label-arrow:before {content: \"▾\";}#sk-container-id-2 div.sk-estimator input.sk-toggleable__control:checked~label.sk-toggleable__label {background-color: #d4ebff;}#sk-container-id-2 div.sk-label input.sk-toggleable__control:checked~label.sk-toggleable__label {background-color: #d4ebff;}#sk-container-id-2 input.sk-hidden--visually {border: 0;clip: rect(1px 1px 1px 1px);clip: rect(1px, 1px, 1px, 1px);height: 1px;margin: -1px;overflow: hidden;padding: 0;position: absolute;width: 1px;}#sk-container-id-2 div.sk-estimator {font-family: monospace;background-color: #f0f8ff;border: 1px dotted black;border-radius: 0.25em;box-sizing: border-box;margin-bottom: 0.5em;}#sk-container-id-2 div.sk-estimator:hover {background-color: #d4ebff;}#sk-container-id-2 div.sk-parallel-item::after {content: \"\";width: 100%;border-bottom: 1px solid gray;flex-grow: 1;}#sk-container-id-2 div.sk-label:hover label.sk-toggleable__label {background-color: #d4ebff;}#sk-container-id-2 div.sk-serial::before {content: \"\";position: absolute;border-left: 1px solid gray;box-sizing: border-box;top: 0;bottom: 0;left: 50%;z-index: 0;}#sk-container-id-2 div.sk-serial {display: flex;flex-direction: column;align-items: center;background-color: white;padding-right: 0.2em;padding-left: 0.2em;position: relative;}#sk-container-id-2 div.sk-item {position: relative;z-index: 1;}#sk-container-id-2 div.sk-parallel {display: flex;align-items: stretch;justify-content: center;background-color: white;position: relative;}#sk-container-id-2 div.sk-item::before, #sk-container-id-2 div.sk-parallel-item::before {content: \"\";position: absolute;border-left: 1px solid gray;box-sizing: border-box;top: 0;bottom: 0;left: 50%;z-index: -1;}#sk-container-id-2 div.sk-parallel-item {display: flex;flex-direction: column;z-index: 1;position: relative;background-color: white;}#sk-container-id-2 div.sk-parallel-item:first-child::after {align-self: flex-end;width: 50%;}#sk-container-id-2 div.sk-parallel-item:last-child::after {align-self: flex-start;width: 50%;}#sk-container-id-2 div.sk-parallel-item:only-child::after {width: 0;}#sk-container-id-2 div.sk-dashed-wrapped {border: 1px dashed gray;margin: 0 0.4em 0.5em 0.4em;box-sizing: border-box;padding-bottom: 0.4em;background-color: white;}#sk-container-id-2 div.sk-label label {font-family: monospace;font-weight: bold;display: inline-block;line-height: 1.2em;}#sk-container-id-2 div.sk-label-container {text-align: center;}#sk-container-id-2 div.sk-container {/* jupyter's `normalize.less` sets `[hidden] { display: none; }` but bootstrap.min.css set `[hidden] { display: none !important; }` so we also need the `!important` here to be able to override the default hidden behavior on the sphinx rendered scikit-learn.org. See: https://github.com/scikit-learn/scikit-learn/issues/21755 */display: inline-block !important;position: relative;}#sk-container-id-2 div.sk-text-repr-fallback {display: none;}</style><div id=\"sk-container-id-2\" class=\"sk-top-container\"><div class=\"sk-text-repr-fallback\"><pre>GridSearchCV(cv=5, estimator=Lasso(),\n",
       "             param_grid={&#x27;alpha&#x27;: [0.001, 0.01, 1.0, 10, 100],\n",
       "                         &#x27;max_iter&#x27;: [20, 50, 60, 100, 500, 1000],\n",
       "                         &#x27;random_state&#x27;: [0, 11, 23, 42, 61]})</pre><b>In a Jupyter environment, please rerun this cell to show the HTML representation or trust the notebook. <br />On GitHub, the HTML representation is unable to render, please try loading this page with nbviewer.org.</b></div><div class=\"sk-container\" hidden><div class=\"sk-item sk-dashed-wrapped\"><div class=\"sk-label-container\"><div class=\"sk-label sk-toggleable\"><input class=\"sk-toggleable__control sk-hidden--visually\" id=\"sk-estimator-id-4\" type=\"checkbox\" ><label for=\"sk-estimator-id-4\" class=\"sk-toggleable__label sk-toggleable__label-arrow\">GridSearchCV</label><div class=\"sk-toggleable__content\"><pre>GridSearchCV(cv=5, estimator=Lasso(),\n",
       "             param_grid={&#x27;alpha&#x27;: [0.001, 0.01, 1.0, 10, 100],\n",
       "                         &#x27;max_iter&#x27;: [20, 50, 60, 100, 500, 1000],\n",
       "                         &#x27;random_state&#x27;: [0, 11, 23, 42, 61]})</pre></div></div></div><div class=\"sk-parallel\"><div class=\"sk-parallel-item\"><div class=\"sk-item\"><div class=\"sk-label-container\"><div class=\"sk-label sk-toggleable\"><input class=\"sk-toggleable__control sk-hidden--visually\" id=\"sk-estimator-id-5\" type=\"checkbox\" ><label for=\"sk-estimator-id-5\" class=\"sk-toggleable__label sk-toggleable__label-arrow\">estimator: Lasso</label><div class=\"sk-toggleable__content\"><pre>Lasso()</pre></div></div></div><div class=\"sk-serial\"><div class=\"sk-item\"><div class=\"sk-estimator sk-toggleable\"><input class=\"sk-toggleable__control sk-hidden--visually\" id=\"sk-estimator-id-6\" type=\"checkbox\" ><label for=\"sk-estimator-id-6\" class=\"sk-toggleable__label sk-toggleable__label-arrow\">Lasso</label><div class=\"sk-toggleable__content\"><pre>Lasso()</pre></div></div></div></div></div></div></div></div></div></div>"
      ],
      "text/plain": [
       "GridSearchCV(cv=5, estimator=Lasso(),\n",
       "             param_grid={'alpha': [0.001, 0.01, 1.0, 10, 100],\n",
       "                         'max_iter': [20, 50, 60, 100, 500, 1000],\n",
       "                         'random_state': [0, 11, 23, 42, 61]})"
      ]
     },
     "execution_count": 315,
     "metadata": {},
     "output_type": "execute_result"
    }
   ],
   "source": [
    "from sklearn.model_selection import GridSearchCV,RandomizedSearchCV\n",
    "#The parameters I want to tune are as follows:\n",
    "params = {\n",
    "    'alpha': [0.001, 0.01 , 1.0, 10, 100],\n",
    "    'random_state' :[0, 11, 23, 42, 61],\n",
    "    'max_iter':[20, 50, 60, 100, 500, 1000]\n",
    "}\n",
    "grid = GridSearchCV(estimator=lasso,param_grid=params,cv = 5)\n",
    "grid.fit(X2345_train,y_train)"
   ]
  },
  {
   "cell_type": "code",
   "execution_count": 316,
   "id": "90f61469-8a30-409e-8849-b0afcb26fba5",
   "metadata": {},
   "outputs": [
    {
     "name": "stdout",
     "output_type": "stream",
     "text": [
      "R2 score is  0.4120575891198204\n"
     ]
    }
   ],
   "source": [
    "hyp_lasso_pred = grid.predict(X2345_test)\n",
    "\n",
    "hyp_lasso_r2_score = r2_score(y_test, hyp_lasso_pred)\n",
    "print(\"R2 score is \",hyp_lasso_r2_score)"
   ]
  },
  {
   "cell_type": "markdown",
   "id": "7fcdb969-37bd-40c0-84b6-005172ba07e0",
   "metadata": {},
   "source": [
    "\n",
    "I receive a significantly higher R2 score compared to before after tuning the parameters."
   ]
  },
  {
   "cell_type": "code",
   "execution_count": 317,
   "id": "082235c2-5927-40f5-9b1b-b3da9153c9ab",
   "metadata": {},
   "outputs": [
    {
     "data": {
      "text/plain": [
       "{'alpha': 0.001, 'max_iter': 20, 'random_state': 0}"
      ]
     },
     "execution_count": 317,
     "metadata": {},
     "output_type": "execute_result"
    }
   ],
   "source": [
    "#The best_params_ method provides the best parameters of the model.\n",
    "grid.best_params_ "
   ]
  },
  {
   "cell_type": "code",
   "execution_count": 321,
   "id": "fca8d563-445d-46ac-ab3c-558a89a143c0",
   "metadata": {},
   "outputs": [
    {
     "data": {
      "image/png": "[encoded data removed]",
      "text/plain": [
       "<Figure size 640x480 with 1 Axes>"
      ]
     },
     "metadata": {},
     "output_type": "display_data"
    }
   ],
   "source": [
    "plt.scatter(y_test, hyp_lasso_pred, color='blue', label='Actual')\n",
    "plt.plot(y_test, y_test,color = 'red',label= 'Regression line')\n",
    "\n",
    "plt.xlabel('Actual Y')\n",
    "plt.ylabel('Predicted Y')\n",
    "plt.title('Actual vs Predicted Y')\n",
    "\n",
    "plt.legend()\n",
    "plt.show()"
   ]
  },
  {
   "cell_type": "markdown",
   "id": "153ccb78-61e1-44b3-93fe-d93d33dc8d20",
   "metadata": {},
   "source": [
    "The predicted and actual values plot after tuning seems to be better than before\n",
    "To facilitate visualization, let's display the two charts in the same cell below."
   ]
  },
  {
   "cell_type": "code",
   "execution_count": 323,
   "id": "718a07da-54f4-4ab8-867e-dd600370da16",
   "metadata": {},
   "outputs": [
    {
     "data": {
      "image/png": "[encoded data removed]",
      "text/plain": [
       "<Figure size 1500x500 with 2 Axes>"
      ]
     },
     "metadata": {},
     "output_type": "display_data"
    }
   ],
   "source": [
    "# Create a display framework with two cells.\n",
    "fig, (ax1, ax2) = plt.subplots(1, 2, figsize=(15, 5))\n",
    "\n",
    "# Chart 1: Scatter plot and the best-fit line for the Lasso model\n",
    "ax1.scatter(y_test, pred_test_lasso, color='blue', label='Actual')\n",
    "ax1.plot(y_test, y_test, color='red', label='Regression line')\n",
    "ax1.set_xlabel('Actual Y')\n",
    "ax1.set_ylabel('Predicted Y')\n",
    "ax1.set_title('Actual vs Predicted Y (Lasso without Hyperparameter Tuning)')\n",
    "ax1.legend()\n",
    "\n",
    "# Chart 2: Scatter plot and the best-fit line for the Linear Regression model\n",
    "ax2.scatter(y_test, hyp_lasso_pred, color='blue', label='Actual')\n",
    "ax2.plot(y_test, y_test, color='red', label='Regression line')\n",
    "ax2.set_xlabel('Actual Y')\n",
    "ax2.set_ylabel('Predicted Y')\n",
    "ax2.set_title('Actual vs Predicted Y (Lasso after Hyperparameter Tuning)')\n",
    "ax2.legend()\n",
    "\n",
    "plt.tight_layout()\n",
    "plt.show()"
   ]
  },
  {
   "cell_type": "markdown",
   "id": "7d02b348-3030-4263-9a49-a4eb7207c7a3",
   "metadata": {},
   "source": [
    "### Summary:\n",
    "\n",
    "My models for predicting house prices are for reference only. The price of a house can depend on many factors simultaneously, as we have seen that house prices are significantly influenced by the amenities and services surrounding them\n",
    "- ."
   ]
  },
  {
   "cell_type": "code",
   "execution_count": null,
   "id": "3a56c9bb-7ba2-4ff7-a170-478c92ea1872",
   "metadata": {},
   "outputs": [],
   "source": []
  }
 ],
 "metadata": {
  "kernelspec": {
   "display_name": "Python 3 (ipykernel)",
   "language": "python",
   "name": "python3"
  },
  "language_info": {
   "codemirror_mode": {
    "name": "ipython",
    "version": 3
   },
   "file_extension": ".py",
   "mimetype": "text/x-python",
   "name": "python",
   "nbconvert_exporter": "python",
   "pygments_lexer": "ipython3",
   "version": "3.11.7"
  }
 },
 "nbformat": 4,
 "nbformat_minor": 5
}
